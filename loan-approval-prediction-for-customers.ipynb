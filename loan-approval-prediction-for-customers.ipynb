{
 "cells": [
  {
   "cell_type": "markdown",
   "id": "5dc3539c",
   "metadata": {
    "id": "r238zFy8f-xl",
    "papermill": {
     "duration": 0.028702,
     "end_time": "2023-03-17T06:24:10.494740",
     "exception": false,
     "start_time": "2023-03-17T06:24:10.466038",
     "status": "completed"
    },
    "tags": []
   },
   "source": [
    "# Importing Libraries\n"
   ]
  },
  {
   "cell_type": "code",
   "execution_count": 24,
   "id": "bc2c356b",
   "metadata": {
    "id": "0tAGJPoeKrfI",
    "papermill": {
     "duration": 1.798149,
     "end_time": "2023-03-17T06:24:12.321071",
     "exception": false,
     "start_time": "2023-03-17T06:24:10.522922",
     "status": "completed"
    },
    "tags": []
   },
   "outputs": [],
   "source": [
    "import numpy as np\n",
    "import pandas as pd\n",
    "import matplotlib.pyplot as plt\n",
    "import missingno as mso\n",
    "import seaborn as sns\n",
    "import warnings\n",
    "warnings.filterwarnings('ignore')\n",
    "import os\n",
    "import scipy\n",
    "\n",
    "from scipy import stats\n",
    "from scipy.stats import pearsonr\n",
    "from scipy.stats import ttest_ind\n",
    "from sklearn.metrics import classification_report\n",
    "from sklearn.metrics import confusion_matrix\n",
    "from sklearn.preprocessing import MinMaxScaler\n",
    "from sklearn.model_selection import train_test_split\n",
    "from imblearn.over_sampling import SMOTE\n",
    "\n",
    "from sklearn.linear_model import LogisticRegression\n",
    "from sklearn.neighbors import KNeighborsClassifier\n",
    "from sklearn.svm import SVC\n",
    "from sklearn.naive_bayes import CategoricalNB\n",
    "from sklearn.naive_bayes import GaussianNB\n",
    "from sklearn.tree import DecisionTreeClassifier\n",
    "from sklearn.ensemble import RandomForestClassifier\n",
    "from sklearn.ensemble import GradientBoostingClassifier\n",
    "from xgboost import XGBClassifier\n",
    "from sklearn.model_selection import GridSearchCV, RandomizedSearchCV"
   ]
  },
  {
   "cell_type": "markdown",
   "id": "ba82ca12",
   "metadata": {
    "id": "_3IOljdqgEd0",
    "papermill": {
     "duration": 0.025655,
     "end_time": "2023-03-17T06:24:12.372877",
     "exception": false,
     "start_time": "2023-03-17T06:24:12.347222",
     "status": "completed"
    },
    "tags": []
   },
   "source": [
    "# Importing the data set\n"
   ]
  },
  {
   "cell_type": "code",
   "execution_count": 95,
   "id": "ea7bc5d7",
   "metadata": {
    "id": "-9VxuECvXJIR",
    "papermill": {
     "duration": 0.065479,
     "end_time": "2023-03-17T06:24:12.464558",
     "exception": false,
     "start_time": "2023-03-17T06:24:12.399079",
     "status": "completed"
    },
    "tags": []
   },
   "outputs": [],
   "source": [
    "train = pd.read_csv(\"loan_train.csv\")\n",
    "test = pd.read_csv(\"loan_test.csv\")"
   ]
  },
  {
   "cell_type": "code",
   "execution_count": 96,
   "id": "a00be41a",
   "metadata": {
    "id": "OG7UWc3qwHSX",
    "outputId": "27aa8963-9c93-491b-9aaa-47506fc99442",
    "papermill": {
     "duration": 0.062645,
     "end_time": "2023-03-17T06:24:12.553711",
     "exception": false,
     "start_time": "2023-03-17T06:24:12.491066",
     "status": "completed"
    },
    "tags": []
   },
   "outputs": [
    {
     "data": {
      "text/html": [
       "<div>\n",
       "<style scoped>\n",
       "    .dataframe tbody tr th:only-of-type {\n",
       "        vertical-align: middle;\n",
       "    }\n",
       "\n",
       "    .dataframe tbody tr th {\n",
       "        vertical-align: top;\n",
       "    }\n",
       "\n",
       "    .dataframe thead th {\n",
       "        text-align: right;\n",
       "    }\n",
       "</style>\n",
       "<table border=\"1\" class=\"dataframe\">\n",
       "  <thead>\n",
       "    <tr style=\"text-align: right;\">\n",
       "      <th></th>\n",
       "      <th>Gender</th>\n",
       "      <th>Married</th>\n",
       "      <th>Dependents</th>\n",
       "      <th>Education</th>\n",
       "      <th>Self_Employed</th>\n",
       "      <th>Applicant_Income</th>\n",
       "      <th>Coapplicant_Income</th>\n",
       "      <th>Loan_Amount</th>\n",
       "      <th>Term</th>\n",
       "      <th>Credit_History</th>\n",
       "      <th>Area</th>\n",
       "      <th>Status</th>\n",
       "    </tr>\n",
       "  </thead>\n",
       "  <tbody>\n",
       "    <tr>\n",
       "      <th>0</th>\n",
       "      <td>Male</td>\n",
       "      <td>No</td>\n",
       "      <td>0</td>\n",
       "      <td>Graduate</td>\n",
       "      <td>No</td>\n",
       "      <td>584900</td>\n",
       "      <td>0.0</td>\n",
       "      <td>15000000</td>\n",
       "      <td>360.0</td>\n",
       "      <td>1.0</td>\n",
       "      <td>Urban</td>\n",
       "      <td>Y</td>\n",
       "    </tr>\n",
       "    <tr>\n",
       "      <th>1</th>\n",
       "      <td>Male</td>\n",
       "      <td>Yes</td>\n",
       "      <td>1</td>\n",
       "      <td>Graduate</td>\n",
       "      <td>No</td>\n",
       "      <td>458300</td>\n",
       "      <td>150800.0</td>\n",
       "      <td>12800000</td>\n",
       "      <td>360.0</td>\n",
       "      <td>1.0</td>\n",
       "      <td>Rural</td>\n",
       "      <td>N</td>\n",
       "    </tr>\n",
       "    <tr>\n",
       "      <th>2</th>\n",
       "      <td>Male</td>\n",
       "      <td>Yes</td>\n",
       "      <td>0</td>\n",
       "      <td>Graduate</td>\n",
       "      <td>Yes</td>\n",
       "      <td>300000</td>\n",
       "      <td>0.0</td>\n",
       "      <td>6600000</td>\n",
       "      <td>360.0</td>\n",
       "      <td>1.0</td>\n",
       "      <td>Urban</td>\n",
       "      <td>Y</td>\n",
       "    </tr>\n",
       "    <tr>\n",
       "      <th>3</th>\n",
       "      <td>Male</td>\n",
       "      <td>Yes</td>\n",
       "      <td>0</td>\n",
       "      <td>Not Graduate</td>\n",
       "      <td>No</td>\n",
       "      <td>258300</td>\n",
       "      <td>235800.0</td>\n",
       "      <td>12000000</td>\n",
       "      <td>360.0</td>\n",
       "      <td>1.0</td>\n",
       "      <td>Urban</td>\n",
       "      <td>Y</td>\n",
       "    </tr>\n",
       "    <tr>\n",
       "      <th>4</th>\n",
       "      <td>Male</td>\n",
       "      <td>No</td>\n",
       "      <td>0</td>\n",
       "      <td>Graduate</td>\n",
       "      <td>No</td>\n",
       "      <td>600000</td>\n",
       "      <td>0.0</td>\n",
       "      <td>14100000</td>\n",
       "      <td>360.0</td>\n",
       "      <td>1.0</td>\n",
       "      <td>Urban</td>\n",
       "      <td>Y</td>\n",
       "    </tr>\n",
       "  </tbody>\n",
       "</table>\n",
       "</div>"
      ],
      "text/plain": [
       "  Gender Married Dependents     Education Self_Employed  Applicant_Income  \\\n",
       "0   Male      No          0      Graduate            No            584900   \n",
       "1   Male     Yes          1      Graduate            No            458300   \n",
       "2   Male     Yes          0      Graduate           Yes            300000   \n",
       "3   Male     Yes          0  Not Graduate            No            258300   \n",
       "4   Male      No          0      Graduate            No            600000   \n",
       "\n",
       "   Coapplicant_Income  Loan_Amount   Term  Credit_History   Area Status  \n",
       "0                 0.0     15000000  360.0             1.0  Urban      Y  \n",
       "1            150800.0     12800000  360.0             1.0  Rural      N  \n",
       "2                 0.0      6600000  360.0             1.0  Urban      Y  \n",
       "3            235800.0     12000000  360.0             1.0  Urban      Y  \n",
       "4                 0.0     14100000  360.0             1.0  Urban      Y  "
      ]
     },
     "execution_count": 96,
     "metadata": {},
     "output_type": "execute_result"
    }
   ],
   "source": [
    "train.head()"
   ]
  },
  {
   "cell_type": "code",
   "execution_count": 97,
   "id": "3472c5c7",
   "metadata": {
    "id": "cmlLIDOLwEX2",
    "outputId": "8e006f7d-e4a0-4833-ebee-3ab39eabcdc0",
    "papermill": {
     "duration": 0.048313,
     "end_time": "2023-03-17T06:24:12.628382",
     "exception": false,
     "start_time": "2023-03-17T06:24:12.580069",
     "status": "completed"
    },
    "tags": []
   },
   "outputs": [
    {
     "data": {
      "text/html": [
       "<div>\n",
       "<style scoped>\n",
       "    .dataframe tbody tr th:only-of-type {\n",
       "        vertical-align: middle;\n",
       "    }\n",
       "\n",
       "    .dataframe tbody tr th {\n",
       "        vertical-align: top;\n",
       "    }\n",
       "\n",
       "    .dataframe thead th {\n",
       "        text-align: right;\n",
       "    }\n",
       "</style>\n",
       "<table border=\"1\" class=\"dataframe\">\n",
       "  <thead>\n",
       "    <tr style=\"text-align: right;\">\n",
       "      <th></th>\n",
       "      <th>Gender</th>\n",
       "      <th>Married</th>\n",
       "      <th>Dependents</th>\n",
       "      <th>Education</th>\n",
       "      <th>Self_Employed</th>\n",
       "      <th>Applicant_Income</th>\n",
       "      <th>Coapplicant_Income</th>\n",
       "      <th>Loan_Amount</th>\n",
       "      <th>Term</th>\n",
       "      <th>Credit_History</th>\n",
       "      <th>Area</th>\n",
       "    </tr>\n",
       "  </thead>\n",
       "  <tbody>\n",
       "    <tr>\n",
       "      <th>0</th>\n",
       "      <td>Male</td>\n",
       "      <td>Yes</td>\n",
       "      <td>0</td>\n",
       "      <td>Graduate</td>\n",
       "      <td>No</td>\n",
       "      <td>572000</td>\n",
       "      <td>0</td>\n",
       "      <td>11000000</td>\n",
       "      <td>360.0</td>\n",
       "      <td>1.0</td>\n",
       "      <td>Urban</td>\n",
       "    </tr>\n",
       "    <tr>\n",
       "      <th>1</th>\n",
       "      <td>Male</td>\n",
       "      <td>Yes</td>\n",
       "      <td>1</td>\n",
       "      <td>Graduate</td>\n",
       "      <td>No</td>\n",
       "      <td>307600</td>\n",
       "      <td>150000</td>\n",
       "      <td>12600000</td>\n",
       "      <td>360.0</td>\n",
       "      <td>1.0</td>\n",
       "      <td>Urban</td>\n",
       "    </tr>\n",
       "    <tr>\n",
       "      <th>2</th>\n",
       "      <td>Male</td>\n",
       "      <td>Yes</td>\n",
       "      <td>2</td>\n",
       "      <td>Graduate</td>\n",
       "      <td>No</td>\n",
       "      <td>500000</td>\n",
       "      <td>180000</td>\n",
       "      <td>20800000</td>\n",
       "      <td>360.0</td>\n",
       "      <td>1.0</td>\n",
       "      <td>Urban</td>\n",
       "    </tr>\n",
       "    <tr>\n",
       "      <th>3</th>\n",
       "      <td>Male</td>\n",
       "      <td>Yes</td>\n",
       "      <td>2</td>\n",
       "      <td>Graduate</td>\n",
       "      <td>No</td>\n",
       "      <td>234000</td>\n",
       "      <td>254600</td>\n",
       "      <td>10000000</td>\n",
       "      <td>360.0</td>\n",
       "      <td>NaN</td>\n",
       "      <td>Urban</td>\n",
       "    </tr>\n",
       "    <tr>\n",
       "      <th>4</th>\n",
       "      <td>Male</td>\n",
       "      <td>No</td>\n",
       "      <td>0</td>\n",
       "      <td>Not Graduate</td>\n",
       "      <td>No</td>\n",
       "      <td>327600</td>\n",
       "      <td>0</td>\n",
       "      <td>7800000</td>\n",
       "      <td>360.0</td>\n",
       "      <td>1.0</td>\n",
       "      <td>Urban</td>\n",
       "    </tr>\n",
       "  </tbody>\n",
       "</table>\n",
       "</div>"
      ],
      "text/plain": [
       "  Gender Married Dependents     Education Self_Employed  Applicant_Income  \\\n",
       "0   Male     Yes          0      Graduate            No            572000   \n",
       "1   Male     Yes          1      Graduate            No            307600   \n",
       "2   Male     Yes          2      Graduate            No            500000   \n",
       "3   Male     Yes          2      Graduate            No            234000   \n",
       "4   Male      No          0  Not Graduate            No            327600   \n",
       "\n",
       "   Coapplicant_Income  Loan_Amount   Term  Credit_History   Area  \n",
       "0                   0     11000000  360.0             1.0  Urban  \n",
       "1              150000     12600000  360.0             1.0  Urban  \n",
       "2              180000     20800000  360.0             1.0  Urban  \n",
       "3              254600     10000000  360.0             NaN  Urban  \n",
       "4                   0      7800000  360.0             1.0  Urban  "
      ]
     },
     "execution_count": 97,
     "metadata": {},
     "output_type": "execute_result"
    }
   ],
   "source": [
    "test.head()"
   ]
  },
  {
   "cell_type": "code",
   "execution_count": 98,
   "id": "7fc7a667",
   "metadata": {
    "id": "QLUH-tNjh1b8",
    "outputId": "2160bcf2-6e2f-4dd8-91d9-b06c46e05d32",
    "papermill": {
     "duration": 0.03742,
     "end_time": "2023-03-17T06:24:12.693164",
     "exception": false,
     "start_time": "2023-03-17T06:24:12.655744",
     "status": "completed"
    },
    "tags": []
   },
   "outputs": [
    {
     "name": "stdout",
     "output_type": "stream",
     "text": [
      "(614, 12) (367, 11)\n"
     ]
    }
   ],
   "source": [
    "print(train.shape, test.shape)"
   ]
  },
  {
   "cell_type": "markdown",
   "id": "71ee9721",
   "metadata": {
    "id": "q-gxXHlThKhK",
    "papermill": {
     "duration": 0.026127,
     "end_time": "2023-03-17T06:24:12.745784",
     "exception": false,
     "start_time": "2023-03-17T06:24:12.719657",
     "status": "completed"
    },
    "tags": []
   },
   "source": [
    "#  EDA\n"
   ]
  },
  {
   "cell_type": "markdown",
   "id": "a228b0aa",
   "metadata": {
    "id": "e6VEKBKohdAs",
    "papermill": {
     "duration": 0.026302,
     "end_time": "2023-03-17T06:24:12.798734",
     "exception": false,
     "start_time": "2023-03-17T06:24:12.772432",
     "status": "completed"
    },
    "tags": []
   },
   "source": [
    "## Categorical Variable "
   ]
  },
  {
   "cell_type": "markdown",
   "id": "0e20886c",
   "metadata": {
    "id": "P0PIgD0sizNr",
    "papermill": {
     "duration": 0.026154,
     "end_time": "2023-03-17T06:24:12.851473",
     "exception": false,
     "start_time": "2023-03-17T06:24:12.825319",
     "status": "completed"
    },
    "tags": []
   },
   "source": [
    "### Gender"
   ]
  },
  {
   "cell_type": "code",
   "execution_count": 99,
   "id": "343c3c5d",
   "metadata": {
    "id": "-FCfZqBthMS9",
    "outputId": "9bcd9a3c-4297-481e-e9c8-757ed4fbd7fe",
    "papermill": {
     "duration": 0.04234,
     "end_time": "2023-03-17T06:24:12.920536",
     "exception": false,
     "start_time": "2023-03-17T06:24:12.878196",
     "status": "completed"
    },
    "tags": []
   },
   "outputs": [
    {
     "data": {
      "text/plain": [
       "Gender\n",
       "Male      489\n",
       "Female    112\n",
       "NaN        13\n",
       "Name: count, dtype: int64"
      ]
     },
     "execution_count": 99,
     "metadata": {},
     "output_type": "execute_result"
    }
   ],
   "source": [
    "train.Gender.value_counts(dropna = False)"
   ]
  },
  {
   "cell_type": "code",
   "execution_count": 100,
   "id": "36fdc6d0",
   "metadata": {
    "id": "J4m9mVNniwED",
    "outputId": "6ce6b73b-e6ca-4fbc-e092-eace151982a7",
    "papermill": {
     "duration": 0.211111,
     "end_time": "2023-03-17T06:24:13.158616",
     "exception": false,
     "start_time": "2023-03-17T06:24:12.947505",
     "status": "completed"
    },
    "tags": []
   },
   "outputs": [
    {
     "data": {
      "image/png": "[encoded data removed]",
      "text/plain": [
       "<Figure size 640x480 with 1 Axes>"
      ]
     },
     "metadata": {},
     "output_type": "display_data"
    }
   ],
   "source": [
    "sns.countplot(x=\"Gender\", data = train)\n",
    "plt.show()"
   ]
  },
  {
   "cell_type": "code",
   "execution_count": 101,
   "id": "70bba807",
   "metadata": {
    "id": "P7dngibeoNnH",
    "outputId": "0e9cfb24-25bb-4dfe-94b9-fdbf00ff754b",
    "papermill": {
     "duration": 0.041916,
     "end_time": "2023-03-17T06:24:13.227710",
     "exception": false,
     "start_time": "2023-03-17T06:24:13.185794",
     "status": "completed"
    },
    "tags": []
   },
   "outputs": [
    {
     "name": "stdout",
     "output_type": "stream",
     "text": [
      "Percentage of Male applicant: 79.64 %\n",
      "Percentage of Female applicant: 18.24 %\n",
      "Missing values percentage: 2.12 %\n"
     ]
    }
   ],
   "source": [
    "count_male = len(train[train.Gender == 'Male'])\n",
    "count_female = len(train[train.Gender == 'Female'])\n",
    "count_null = len(train[train.Gender.isnull()])\n",
    "\n",
    "print(\"Percentage of Male applicant: {:.2f} %\".format((count_male / (len(train.Gender))*100)))\n",
    "print(\"Percentage of Female applicant: {:.2f} %\".format((count_female / (len(train.Gender))*100)))\n",
    "print(\"Missing values percentage: {:.2f} %\".format((count_null / (len(train.Gender))*100)))"
   ]
  },
  {
   "cell_type": "markdown",
   "id": "c148c780",
   "metadata": {
    "id": "x-DNl5fMjDAu",
    "papermill": {
     "duration": 0.026603,
     "end_time": "2023-03-17T06:24:13.281613",
     "exception": false,
     "start_time": "2023-03-17T06:24:13.255010",
     "status": "completed"
    },
    "tags": []
   },
   "source": [
    "We can observe that the number of male applicants is higher compared to female applicants. Also there are missing values in this column."
   ]
  },
  {
   "cell_type": "markdown",
   "id": "2654fb0e",
   "metadata": {
    "id": "b_Mkfxy6k2kS",
    "papermill": {
     "duration": 0.026791,
     "end_time": "2023-03-17T06:24:13.335470",
     "exception": false,
     "start_time": "2023-03-17T06:24:13.308679",
     "status": "completed"
    },
    "tags": []
   },
   "source": [
    "### Married"
   ]
  },
  {
   "cell_type": "code",
   "execution_count": 102,
   "id": "12cfa2ef",
   "metadata": {
    "id": "GxBR8uJpk95l",
    "outputId": "94f8a689-c8dc-4213-926a-7702dad82059",
    "papermill": {
     "duration": 0.040305,
     "end_time": "2023-03-17T06:24:13.402898",
     "exception": false,
     "start_time": "2023-03-17T06:24:13.362593",
     "status": "completed"
    },
    "tags": []
   },
   "outputs": [
    {
     "data": {
      "text/plain": [
       "Married\n",
       "Yes    398\n",
       "No     213\n",
       "NaN      3\n",
       "Name: count, dtype: int64"
      ]
     },
     "execution_count": 102,
     "metadata": {},
     "output_type": "execute_result"
    }
   ],
   "source": [
    "train.Married.value_counts(dropna = False)"
   ]
  },
  {
   "cell_type": "code",
   "execution_count": 103,
   "id": "30ea7d16",
   "metadata": {
    "id": "7PSgGPJ-lNAI",
    "outputId": "b842f96c-081d-4582-f849-cdec5a6b0498",
    "papermill": {
     "duration": 0.195554,
     "end_time": "2023-03-17T06:24:13.625597",
     "exception": false,
     "start_time": "2023-03-17T06:24:13.430043",
     "status": "completed"
    },
    "tags": []
   },
   "outputs": [
    {
     "data": {
      "image/png": "[encoded data removed]",
      "text/plain": [
       "<Figure size 640x480 with 1 Axes>"
      ]
     },
     "metadata": {},
     "output_type": "display_data"
    }
   ],
   "source": [
    "sns.countplot(x = \"Married\", data = train)\n",
    "plt.show()"
   ]
  },
  {
   "cell_type": "markdown",
   "id": "b107ed52",
   "metadata": {
    "id": "103tu8DvlV0V",
    "papermill": {
     "duration": 0.027136,
     "end_time": "2023-03-17T06:24:13.680413",
     "exception": false,
     "start_time": "2023-03-17T06:24:13.653277",
     "status": "completed"
    },
    "tags": []
   },
   "source": [
    "Number of applicants that has been married is significantly higher compared to applicants that hasn't married. It also can be seen there are small number of missing values in this column as well."
   ]
  },
  {
   "cell_type": "code",
   "execution_count": 104,
   "id": "8efd1be5",
   "metadata": {
    "id": "Iy-ECFncpHOg",
    "outputId": "c948d2d8-968c-40f0-a17b-9b2df7cf4c64",
    "papermill": {
     "duration": 0.041508,
     "end_time": "2023-03-17T06:24:13.749307",
     "exception": false,
     "start_time": "2023-03-17T06:24:13.707799",
     "status": "completed"
    },
    "tags": []
   },
   "outputs": [
    {
     "name": "stdout",
     "output_type": "stream",
     "text": [
      "Percentage of married: 64.82 %\n",
      "Percentage of Non married applicant: 34.69 %\n",
      "Missing values percentage: 0.49 %\n"
     ]
    }
   ],
   "source": [
    "count_married = len(train[train.Married == 'Yes'])\n",
    "count_non_married = len(train[train.Married == 'No'])\n",
    "count_null = len(train[train.Married.isnull()])\n",
    "\n",
    "print(\"Percentage of married: {:.2f} %\".format((count_married / (len(train.Married))*100)))\n",
    "print(\"Percentage of Non married applicant: {:.2f} %\".format((count_non_married / (len(train.Married))*100)))\n",
    "print(\"Missing values percentage: {:.2f} %\".format((count_null / (len(train.Married))*100)))"
   ]
  },
  {
   "cell_type": "markdown",
   "id": "4c1bbff1",
   "metadata": {
    "id": "Ytz_I82Vl3Wu",
    "papermill": {
     "duration": 0.027103,
     "end_time": "2023-03-17T06:24:13.803786",
     "exception": false,
     "start_time": "2023-03-17T06:24:13.776683",
     "status": "completed"
    },
    "tags": []
   },
   "source": [
    "### Education"
   ]
  },
  {
   "cell_type": "code",
   "execution_count": 105,
   "id": "531f7e0f",
   "metadata": {
    "id": "Qqa3XmC5l3Wv",
    "outputId": "16a6646c-7a06-41b9-cd19-4c438567b55b",
    "papermill": {
     "duration": 0.040776,
     "end_time": "2023-03-17T06:24:13.871926",
     "exception": false,
     "start_time": "2023-03-17T06:24:13.831150",
     "status": "completed"
    },
    "tags": []
   },
   "outputs": [
    {
     "data": {
      "text/plain": [
       "Education\n",
       "Graduate        480\n",
       "Not Graduate    134\n",
       "Name: count, dtype: int64"
      ]
     },
     "execution_count": 105,
     "metadata": {},
     "output_type": "execute_result"
    }
   ],
   "source": [
    "train.Education.value_counts(dropna=False)"
   ]
  },
  {
   "cell_type": "code",
   "execution_count": 106,
   "id": "8ab220a1",
   "metadata": {
    "id": "rOSIyek7l3Wv",
    "outputId": "ee3d222c-926b-4b00-abe2-61ea1416319c",
    "papermill": {
     "duration": 0.18984,
     "end_time": "2023-03-17T06:24:14.089753",
     "exception": false,
     "start_time": "2023-03-17T06:24:13.899913",
     "status": "completed"
    },
    "tags": []
   },
   "outputs": [
    {
     "data": {
      "image/png": "[encoded data removed]",
      "text/plain": [
       "<Figure size 640x480 with 1 Axes>"
      ]
     },
     "metadata": {},
     "output_type": "display_data"
    }
   ],
   "source": [
    "sns.countplot(x = \"Education\", data = train)\n",
    "plt.show()"
   ]
  },
  {
   "cell_type": "code",
   "execution_count": 107,
   "id": "b294f7d9",
   "metadata": {
    "id": "KswArAwgphLx",
    "outputId": "0046ad04-f9a6-49d4-ce8a-943ac0a4ff8c",
    "papermill": {
     "duration": 0.042477,
     "end_time": "2023-03-17T06:24:14.161150",
     "exception": false,
     "start_time": "2023-03-17T06:24:14.118673",
     "status": "completed"
    },
    "tags": []
   },
   "outputs": [
    {
     "name": "stdout",
     "output_type": "stream",
     "text": [
      "Percentage of graduate applicant: 78.18 %\n",
      "Percentage of Not graduate applicant: 21.82 %\n",
      "Missing values percentage: 0.00 %\n"
     ]
    }
   ],
   "source": [
    "count_graduate = len(train[train.Education == 'Graduate'])\n",
    "count_not_graduate = len(train[train.Education == 'Not Graduate'])\n",
    "count_null = len(train[train.Education.isnull()])\n",
    "\n",
    "print(\"Percentage of graduate applicant: {:.2f} %\".format((count_graduate / (len(train.Education))*100)))\n",
    "print(\"Percentage of Not graduate applicant: {:.2f} %\".format((count_not_graduate / (len(train.Education))*100)))\n",
    "print(\"Missing values percentage: {:.2f} %\".format((count_null / (len(train.Education))*100)))"
   ]
  },
  {
   "cell_type": "markdown",
   "id": "fa91648e",
   "metadata": {
    "id": "wa2PIxQ_l3Ww",
    "papermill": {
     "duration": 0.028213,
     "end_time": "2023-03-17T06:24:14.217667",
     "exception": false,
     "start_time": "2023-03-17T06:24:14.189454",
     "status": "completed"
    },
    "tags": []
   },
   "source": [
    "The number of applicants that has been graduated is higher compared to applicants that hasn't graduated."
   ]
  },
  {
   "cell_type": "markdown",
   "id": "6423cd92",
   "metadata": {
    "id": "35SS19AbmYMQ",
    "papermill": {
     "duration": 0.027964,
     "end_time": "2023-03-17T06:24:14.274547",
     "exception": false,
     "start_time": "2023-03-17T06:24:14.246583",
     "status": "completed"
    },
    "tags": []
   },
   "source": [
    "### Self Employed"
   ]
  },
  {
   "cell_type": "code",
   "execution_count": 108,
   "id": "0436e664",
   "metadata": {
    "id": "_SkU0fcVmYMY",
    "outputId": "1514cfa7-39b8-4a3b-9732-9f5e2ca9ea85",
    "papermill": {
     "duration": 0.041849,
     "end_time": "2023-03-17T06:24:14.344577",
     "exception": false,
     "start_time": "2023-03-17T06:24:14.302728",
     "status": "completed"
    },
    "tags": []
   },
   "outputs": [
    {
     "data": {
      "text/plain": [
       "Self_Employed\n",
       "No     500\n",
       "Yes     82\n",
       "NaN     32\n",
       "Name: count, dtype: int64"
      ]
     },
     "execution_count": 108,
     "metadata": {},
     "output_type": "execute_result"
    }
   ],
   "source": [
    "train.Self_Employed.value_counts(dropna=False)"
   ]
  },
  {
   "cell_type": "code",
   "execution_count": 109,
   "id": "4033114a",
   "metadata": {
    "id": "BMr-wTlFmYMZ",
    "outputId": "3bc02c8b-8b5c-4c04-f28b-0050834a638e",
    "papermill": {
     "duration": 0.181693,
     "end_time": "2023-03-17T06:24:14.555867",
     "exception": false,
     "start_time": "2023-03-17T06:24:14.374174",
     "status": "completed"
    },
    "tags": []
   },
   "outputs": [
    {
     "data": {
      "image/png": "[encoded data removed]",
      "text/plain": [
       "<Figure size 640x480 with 1 Axes>"
      ]
     },
     "metadata": {},
     "output_type": "display_data"
    }
   ],
   "source": [
    "sns.countplot(x = \"Self_Employed\", data = train)\n",
    "plt.show()"
   ]
  },
  {
   "cell_type": "code",
   "execution_count": 110,
   "id": "bc10cb6a",
   "metadata": {
    "id": "EaJS6E0Xp1AT",
    "outputId": "9d3e380f-6a07-45f6-ae19-c1e95cbf145f",
    "papermill": {
     "duration": 0.042789,
     "end_time": "2023-03-17T06:24:14.627796",
     "exception": false,
     "start_time": "2023-03-17T06:24:14.585007",
     "status": "completed"
    },
    "tags": []
   },
   "outputs": [
    {
     "name": "stdout",
     "output_type": "stream",
     "text": [
      "Percentage of Not self employed: 81.43 %\n",
      "Percentage of self employed: 13.36 %\n",
      "Missing values percentage: 5.21 %\n"
     ]
    }
   ],
   "source": [
    "count_no = len(train[train.Self_Employed == 'No'])\n",
    "count_yes = len(train[train.Self_Employed == 'Yes'])\n",
    "count_null = len(train[train.Self_Employed.isnull()])\n",
    "\n",
    "print(\"Percentage of Not self employed: {:.2f} %\".format((count_no / (len(train.Self_Employed))*100)))\n",
    "print(\"Percentage of self employed: {:.2f} %\".format((count_yes / (len(train.Self_Employed))*100)))\n",
    "print(\"Missing values percentage: {:.2f} %\".format((count_null / (len(train.Self_Employed))*100)))"
   ]
  },
  {
   "cell_type": "markdown",
   "id": "3deda99d",
   "metadata": {
    "id": "riciPtC9mYMZ",
    "papermill": {
     "duration": 0.028687,
     "end_time": "2023-03-17T06:24:14.685144",
     "exception": false,
     "start_time": "2023-03-17T06:24:14.656457",
     "status": "completed"
    },
    "tags": []
   },
   "source": [
    "The number of applicants that are not self employed is higher compared to applicants that are self employed. It also can be seen, there are missing values in this column."
   ]
  },
  {
   "cell_type": "markdown",
   "id": "e10a1e45",
   "metadata": {
    "id": "sn4zWF8-njF5",
    "papermill": {
     "duration": 0.028169,
     "end_time": "2023-03-17T06:24:14.742156",
     "exception": false,
     "start_time": "2023-03-17T06:24:14.713987",
     "status": "completed"
    },
    "tags": []
   },
   "source": [
    "### Credit History"
   ]
  },
  {
   "cell_type": "code",
   "execution_count": 111,
   "id": "b90f2c51",
   "metadata": {
    "id": "KtdDjo95njGA",
    "outputId": "17b6a907-a65b-453f-f568-ea3b62bdc111",
    "papermill": {
     "duration": 0.043013,
     "end_time": "2023-03-17T06:24:14.813754",
     "exception": false,
     "start_time": "2023-03-17T06:24:14.770741",
     "status": "completed"
    },
    "tags": []
   },
   "outputs": [
    {
     "data": {
      "text/plain": [
       "Credit_History\n",
       "1.0    475\n",
       "0.0     89\n",
       "NaN     50\n",
       "Name: count, dtype: int64"
      ]
     },
     "execution_count": 111,
     "metadata": {},
     "output_type": "execute_result"
    }
   ],
   "source": [
    "train.Credit_History.value_counts(dropna=False)"
   ]
  },
  {
   "cell_type": "code",
   "execution_count": 112,
   "id": "dcd86469",
   "metadata": {
    "id": "VmNGGD6onjGB",
    "outputId": "39c37039-a8dc-4ec5-8590-e3e83a7b7c4d",
    "papermill": {
     "duration": 0.180159,
     "end_time": "2023-03-17T06:24:15.022788",
     "exception": false,
     "start_time": "2023-03-17T06:24:14.842629",
     "status": "completed"
    },
    "tags": []
   },
   "outputs": [
    {
     "data": {
      "image/png": "[encoded data removed]",
      "text/plain": [
       "<Figure size 640x480 with 1 Axes>"
      ]
     },
     "metadata": {},
     "output_type": "display_data"
    }
   ],
   "source": [
    "sns.countplot(x = \"Credit_History\", data = train, palette = \"crest\")\n",
    "plt.show()"
   ]
  },
  {
   "cell_type": "code",
   "execution_count": 113,
   "id": "ef894602",
   "metadata": {
    "id": "WdkcsU8vqK8Y",
    "outputId": "c09bcbee-4c0b-4da0-daf3-263a8e2c75ff",
    "papermill": {
     "duration": 0.043841,
     "end_time": "2023-03-17T06:24:15.097759",
     "exception": false,
     "start_time": "2023-03-17T06:24:15.053918",
     "status": "completed"
    },
    "tags": []
   },
   "outputs": [
    {
     "name": "stdout",
     "output_type": "stream",
     "text": [
      "Percentage of Good credit history: 77.36 %\n",
      "Percentage of Bad credit history: 14.50 %\n",
      "Missing values percentage: 8.14 %\n"
     ]
    }
   ],
   "source": [
    "count_1 = len(train[train.Credit_History == 1])\n",
    "count_0 = len(train[train.Credit_History == 0])\n",
    "count_null = len(train[train.Credit_History.isnull()])\n",
    "\n",
    "print(\"Percentage of Good credit history: {:.2f} %\".format((count_1 / (len(train.Credit_History))*100)))\n",
    "print(\"Percentage of Bad credit history: {:.2f} %\".format((count_0 / (len(train.Credit_History))*100)))\n",
    "print(\"Missing values percentage: {:.2f} %\".format((count_null / (len(train.Credit_History))*100)))"
   ]
  },
  {
   "cell_type": "markdown",
   "id": "493b6ad0",
   "metadata": {
    "id": "SqS_n8I7njGB",
    "papermill": {
     "duration": 0.029252,
     "end_time": "2023-03-17T06:24:15.156136",
     "exception": false,
     "start_time": "2023-03-17T06:24:15.126884",
     "status": "completed"
    },
    "tags": []
   },
   "source": [
    "👉 The number of applicants that have good credit history is higher compared to applicants that have bad credit history. It also can be seen, there are missing values in this column."
   ]
  },
  {
   "cell_type": "markdown",
   "id": "f6f115c8",
   "metadata": {
    "id": "vITK924Anjnn",
    "papermill": {
     "duration": 0.028714,
     "end_time": "2023-03-17T06:24:15.213875",
     "exception": false,
     "start_time": "2023-03-17T06:24:15.185161",
     "status": "completed"
    },
    "tags": []
   },
   "source": [
    "### Property Area"
   ]
  },
  {
   "cell_type": "code",
   "execution_count": 114,
   "id": "69f320d8",
   "metadata": {
    "id": "i4o2LfJ2njnn",
    "outputId": "323700f8-2144-4db2-be88-2d5289204aab",
    "papermill": {
     "duration": 0.041044,
     "end_time": "2023-03-17T06:24:15.284026",
     "exception": false,
     "start_time": "2023-03-17T06:24:15.242982",
     "status": "completed"
    },
    "tags": []
   },
   "outputs": [
    {
     "data": {
      "text/plain": [
       "Area\n",
       "Semiurban    233\n",
       "Urban        202\n",
       "Rural        179\n",
       "Name: count, dtype: int64"
      ]
     },
     "execution_count": 114,
     "metadata": {},
     "output_type": "execute_result"
    }
   ],
   "source": [
    "train.Area.value_counts(dropna=False)"
   ]
  },
  {
   "cell_type": "code",
   "execution_count": 115,
   "id": "21ad3d3e",
   "metadata": {
    "id": "29S5dnm6njnn",
    "outputId": "d541f05f-95a7-4d78-9d45-33659ab2a75c",
    "papermill": {
     "duration": 0.187646,
     "end_time": "2023-03-17T06:24:15.501218",
     "exception": false,
     "start_time": "2023-03-17T06:24:15.313572",
     "status": "completed"
    },
    "tags": []
   },
   "outputs": [
    {
     "data": {
      "image/png": "[encoded data removed]",
      "text/plain": [
       "<Figure size 640x480 with 1 Axes>"
      ]
     },
     "metadata": {},
     "output_type": "display_data"
    }
   ],
   "source": [
    "sns.countplot(x = \"Area\", data = train, palette=\"crest\")\n",
    "plt.show()"
   ]
  },
  {
   "cell_type": "code",
   "execution_count": 116,
   "id": "c951b8cb",
   "metadata": {
    "id": "XoksMSh9raU_",
    "outputId": "36cbf36c-048c-4944-af18-063db635341d",
    "papermill": {
     "duration": 0.045765,
     "end_time": "2023-03-17T06:24:15.578791",
     "exception": false,
     "start_time": "2023-03-17T06:24:15.533026",
     "status": "completed"
    },
    "tags": []
   },
   "outputs": [
    {
     "name": "stdout",
     "output_type": "stream",
     "text": [
      "Percentage of Urban: 32.90 %\n",
      "Percentage of Rural: 29.15 %\n",
      "Percentage of Semiurban: 37.95 %\n",
      "Missing values percentage: 0.00 %\n"
     ]
    }
   ],
   "source": [
    "count_urban = len(train[train.Area == 'Urban'])\n",
    "count_rural = len(train[train.Area == 'Rural'])\n",
    "count_semi_urban = len(train[train.Area == 'Semiurban'])\n",
    "count_null = len(train[train.Area.isnull()])\n",
    "\n",
    "print(\"Percentage of Urban: {:.2f} %\".format((count_urban / (len(train.Area))*100)))\n",
    "print(\"Percentage of Rural: {:.2f} %\".format((count_rural / (len(train.Area))*100)))\n",
    "print(\"Percentage of Semiurban: {:.2f} %\".format((count_semi_urban / (len(train.Area))*100)))\n",
    "print(\"Missing values percentage: {:.2f} %\".format((count_null / (len(train.Area))*100)))"
   ]
  },
  {
   "cell_type": "markdown",
   "id": "a3015e71",
   "metadata": {
    "id": "Uh6r7sCbnjnn",
    "papermill": {
     "duration": 0.030098,
     "end_time": "2023-03-17T06:24:15.638734",
     "exception": false,
     "start_time": "2023-03-17T06:24:15.608636",
     "status": "completed"
    },
    "tags": []
   },
   "source": [
    "This column has a balanced distribution between Urban, Rural, and Semiurban property area. It also can be seen there is no missing value."
   ]
  },
  {
   "cell_type": "markdown",
   "id": "4555e037",
   "metadata": {
    "id": "sq3-SZScnkCQ",
    "papermill": {
     "duration": 0.029197,
     "end_time": "2023-03-17T06:24:15.697595",
     "exception": false,
     "start_time": "2023-03-17T06:24:15.668398",
     "status": "completed"
    },
    "tags": []
   },
   "source": [
    "### Loan Status"
   ]
  },
  {
   "cell_type": "code",
   "execution_count": 117,
   "id": "3698f51f",
   "metadata": {
    "id": "wiumstnCnkCQ",
    "outputId": "379ce7f6-88bb-48cf-880a-cd04890db2cb",
    "papermill": {
     "duration": 0.041833,
     "end_time": "2023-03-17T06:24:15.769107",
     "exception": false,
     "start_time": "2023-03-17T06:24:15.727274",
     "status": "completed"
    },
    "tags": []
   },
   "outputs": [
    {
     "data": {
      "text/plain": [
       "Status\n",
       "Y    422\n",
       "N    192\n",
       "Name: count, dtype: int64"
      ]
     },
     "execution_count": 117,
     "metadata": {},
     "output_type": "execute_result"
    }
   ],
   "source": [
    "train.Status.value_counts(dropna=False)"
   ]
  },
  {
   "cell_type": "code",
   "execution_count": 118,
   "id": "12ff4e11",
   "metadata": {
    "id": "uu0vT0SvnkCR",
    "outputId": "96978518-1816-4dbc-e15c-c3ddbeb542e2",
    "papermill": {
     "duration": 0.203706,
     "end_time": "2023-03-17T06:24:16.003259",
     "exception": false,
     "start_time": "2023-03-17T06:24:15.799553",
     "status": "completed"
    },
    "tags": []
   },
   "outputs": [
    {
     "data": {
      "image/png": "[encoded data removed]",
      "text/plain": [
       "<Figure size 640x480 with 1 Axes>"
      ]
     },
     "metadata": {},
     "output_type": "display_data"
    }
   ],
   "source": [
    "sns.countplot(x = \"Status\", data = train, palette = \"crest\")\n",
    "plt.show()"
   ]
  },
  {
   "cell_type": "code",
   "execution_count": 119,
   "id": "de7764fc",
   "metadata": {
    "id": "nicivzzRsqZe",
    "outputId": "0f134b25-683f-43be-de35-410ac0c79dfe",
    "papermill": {
     "duration": 0.043961,
     "end_time": "2023-03-17T06:24:16.077398",
     "exception": false,
     "start_time": "2023-03-17T06:24:16.033437",
     "status": "completed"
    },
    "tags": []
   },
   "outputs": [
    {
     "name": "stdout",
     "output_type": "stream",
     "text": [
      "Percentage of Approved: 68.73 %\n",
      "Percentage of Rejected: 31.27 %\n",
      "Missing values percentage: 0.00 %\n"
     ]
    }
   ],
   "source": [
    "count_Y = len(train[train.Status == 'Y'])\n",
    "count_N = len(train[train.Status == 'N'])\n",
    "count_null = len(train[train.Status.isnull()])\n",
    "\n",
    "print(\"Percentage of Approved: {:.2f} %\".format((count_Y / (len(train.Status))*100)))\n",
    "print(\"Percentage of Rejected: {:.2f} %\".format((count_N / (len(train.Status))*100)))\n",
    "print(\"Missing values percentage: {:.2f} %\".format((count_null / (len(train.Status))*100)))"
   ]
  },
  {
   "cell_type": "markdown",
   "id": "542246d6",
   "metadata": {
    "id": "Nj8btIZpnkCR",
    "papermill": {
     "duration": 0.030089,
     "end_time": "2023-03-17T06:24:16.138288",
     "exception": false,
     "start_time": "2023-03-17T06:24:16.108199",
     "status": "completed"
    },
    "tags": []
   },
   "source": [
    "The number of approved loans is higher compared to rejected loans . It also can be seen, there is no missing values in this column."
   ]
  },
  {
   "cell_type": "markdown",
   "id": "0df7c8bf",
   "metadata": {
    "id": "uOKvRa2gO_j9",
    "papermill": {
     "duration": 0.029935,
     "end_time": "2023-03-17T06:24:16.198484",
     "exception": false,
     "start_time": "2023-03-17T06:24:16.168549",
     "status": "completed"
    },
    "tags": []
   },
   "source": [
    "### Loan Amount Term"
   ]
  },
  {
   "cell_type": "code",
   "execution_count": 120,
   "id": "9932220b",
   "metadata": {
    "id": "suUA8cOXO_kB",
    "outputId": "824ec2ee-f8f4-43a3-d4b7-a2bfbba630fc",
    "papermill": {
     "duration": 0.043815,
     "end_time": "2023-03-17T06:24:16.272723",
     "exception": false,
     "start_time": "2023-03-17T06:24:16.228908",
     "status": "completed"
    },
    "tags": []
   },
   "outputs": [
    {
     "data": {
      "text/plain": [
       "Term\n",
       "360.0    512\n",
       "180.0     44\n",
       "480.0     15\n",
       "NaN       14\n",
       "300.0     13\n",
       "240.0      4\n",
       "84.0       4\n",
       "120.0      3\n",
       "60.0       2\n",
       "36.0       2\n",
       "12.0       1\n",
       "Name: count, dtype: int64"
      ]
     },
     "execution_count": 120,
     "metadata": {},
     "output_type": "execute_result"
    }
   ],
   "source": [
    "train.Term.value_counts(dropna=False)"
   ]
  },
  {
   "cell_type": "code",
   "execution_count": 121,
   "id": "0e0a2068",
   "metadata": {
    "id": "19IBVpnZO_kC",
    "outputId": "737c681f-57ac-440f-fc93-2559722e2cad",
    "papermill": {
     "duration": 0.246439,
     "end_time": "2023-03-17T06:24:16.550118",
     "exception": false,
     "start_time": "2023-03-17T06:24:16.303679",
     "status": "completed"
    },
    "tags": []
   },
   "outputs": [
    {
     "data": {
      "image/png": "[encoded data removed]",
      "text/plain": [
       "<Figure size 640x480 with 1 Axes>"
      ]
     },
     "metadata": {},
     "output_type": "display_data"
    }
   ],
   "source": [
    "sns.countplot(x = \"Term\", data = train, palette = \"crest\")\n",
    "plt.show()"
   ]
  },
  {
   "cell_type": "code",
   "execution_count": 122,
   "id": "01277aa0",
   "metadata": {
    "id": "I7gu92DgbBgx",
    "outputId": "5212d056-bc9b-42a0-99fb-8efee1bb2dfb",
    "papermill": {
     "duration": 0.044913,
     "end_time": "2023-03-17T06:24:16.626237",
     "exception": false,
     "start_time": "2023-03-17T06:24:16.581324",
     "status": "completed"
    },
    "tags": []
   },
   "outputs": [
    {
     "data": {
      "text/plain": [
       "Term\n",
       "360.0    83.387622\n",
       "180.0     7.166124\n",
       "480.0     2.442997\n",
       "300.0     2.117264\n",
       "240.0     0.651466\n",
       "84.0      0.651466\n",
       "120.0     0.488599\n",
       "60.0      0.325733\n",
       "36.0      0.325733\n",
       "12.0      0.162866\n",
       "Name: count, dtype: float64"
      ]
     },
     "execution_count": 122,
     "metadata": {},
     "output_type": "execute_result"
    }
   ],
   "source": [
    "train.Term.value_counts()/len(train) * 100"
   ]
  },
  {
   "cell_type": "markdown",
   "id": "bcd60151",
   "metadata": {
    "id": "SrCT3UlKO_kC",
    "papermill": {
     "duration": 0.031066,
     "end_time": "2023-03-17T06:24:16.689541",
     "exception": false,
     "start_time": "2023-03-17T06:24:16.658475",
     "status": "completed"
    },
    "tags": []
   },
   "source": [
    "As can be seen from the results, the 360 days loan duration is the most popular compared to others."
   ]
  },
  {
   "cell_type": "markdown",
   "id": "f6911937",
   "metadata": {
    "id": "uE8t92lRtCXr",
    "papermill": {
     "duration": 0.030933,
     "end_time": "2023-03-17T06:24:16.751781",
     "exception": false,
     "start_time": "2023-03-17T06:24:16.720848",
     "status": "completed"
    },
    "tags": []
   },
   "source": [
    "## Numerical Variable"
   ]
  },
  {
   "cell_type": "markdown",
   "id": "47408128",
   "metadata": {
    "id": "OilcVn02ZLGC",
    "papermill": {
     "duration": 0.030753,
     "end_time": "2023-03-17T06:24:16.813795",
     "exception": false,
     "start_time": "2023-03-17T06:24:16.783042",
     "status": "completed"
    },
    "tags": []
   },
   "source": [
    "### Describing Numerical Variable\n"
   ]
  },
  {
   "cell_type": "code",
   "execution_count": 123,
   "id": "0b1a3bad",
   "metadata": {
    "id": "JYmOMnqitb6s",
    "outputId": "fb1a447d-273a-4e26-effd-48d301a57a99",
    "papermill": {
     "duration": 0.06051,
     "end_time": "2023-03-17T06:24:16.905403",
     "exception": false,
     "start_time": "2023-03-17T06:24:16.844893",
     "status": "completed"
    },
    "tags": []
   },
   "outputs": [
    {
     "data": {
      "text/html": [
       "<div>\n",
       "<style scoped>\n",
       "    .dataframe tbody tr th:only-of-type {\n",
       "        vertical-align: middle;\n",
       "    }\n",
       "\n",
       "    .dataframe tbody tr th {\n",
       "        vertical-align: top;\n",
       "    }\n",
       "\n",
       "    .dataframe thead th {\n",
       "        text-align: right;\n",
       "    }\n",
       "</style>\n",
       "<table border=\"1\" class=\"dataframe\">\n",
       "  <thead>\n",
       "    <tr style=\"text-align: right;\">\n",
       "      <th></th>\n",
       "      <th>Applicant_Income</th>\n",
       "      <th>Coapplicant_Income</th>\n",
       "      <th>Loan_Amount</th>\n",
       "    </tr>\n",
       "  </thead>\n",
       "  <tbody>\n",
       "    <tr>\n",
       "      <th>count</th>\n",
       "      <td>6.140000e+02</td>\n",
       "      <td>6.140000e+02</td>\n",
       "      <td>6.140000e+02</td>\n",
       "    </tr>\n",
       "    <tr>\n",
       "      <th>mean</th>\n",
       "      <td>5.403459e+05</td>\n",
       "      <td>1.621246e+05</td>\n",
       "      <td>1.414104e+07</td>\n",
       "    </tr>\n",
       "    <tr>\n",
       "      <th>std</th>\n",
       "      <td>6.109042e+05</td>\n",
       "      <td>2.926248e+05</td>\n",
       "      <td>8.815682e+06</td>\n",
       "    </tr>\n",
       "    <tr>\n",
       "      <th>min</th>\n",
       "      <td>1.500000e+04</td>\n",
       "      <td>0.000000e+00</td>\n",
       "      <td>0.000000e+00</td>\n",
       "    </tr>\n",
       "    <tr>\n",
       "      <th>25%</th>\n",
       "      <td>2.877500e+05</td>\n",
       "      <td>0.000000e+00</td>\n",
       "      <td>9.800000e+06</td>\n",
       "    </tr>\n",
       "    <tr>\n",
       "      <th>50%</th>\n",
       "      <td>3.812500e+05</td>\n",
       "      <td>1.188500e+05</td>\n",
       "      <td>1.250000e+07</td>\n",
       "    </tr>\n",
       "    <tr>\n",
       "      <th>75%</th>\n",
       "      <td>5.795000e+05</td>\n",
       "      <td>2.297250e+05</td>\n",
       "      <td>1.647500e+07</td>\n",
       "    </tr>\n",
       "    <tr>\n",
       "      <th>max</th>\n",
       "      <td>8.100000e+06</td>\n",
       "      <td>4.166700e+06</td>\n",
       "      <td>7.000000e+07</td>\n",
       "    </tr>\n",
       "  </tbody>\n",
       "</table>\n",
       "</div>"
      ],
      "text/plain": [
       "       Applicant_Income  Coapplicant_Income   Loan_Amount\n",
       "count      6.140000e+02        6.140000e+02  6.140000e+02\n",
       "mean       5.403459e+05        1.621246e+05  1.414104e+07\n",
       "std        6.109042e+05        2.926248e+05  8.815682e+06\n",
       "min        1.500000e+04        0.000000e+00  0.000000e+00\n",
       "25%        2.877500e+05        0.000000e+00  9.800000e+06\n",
       "50%        3.812500e+05        1.188500e+05  1.250000e+07\n",
       "75%        5.795000e+05        2.297250e+05  1.647500e+07\n",
       "max        8.100000e+06        4.166700e+06  7.000000e+07"
      ]
     },
     "execution_count": 123,
     "metadata": {},
     "output_type": "execute_result"
    }
   ],
   "source": [
    "train[['Applicant_Income','Coapplicant_Income','Loan_Amount']].describe()"
   ]
  },
  {
   "cell_type": "markdown",
   "id": "c00ff89e",
   "metadata": {
    "id": "xVh_xjKZNFtZ",
    "papermill": {
     "duration": 0.030923,
     "end_time": "2023-03-17T06:24:16.968056",
     "exception": false,
     "start_time": "2023-03-17T06:24:16.937133",
     "status": "completed"
    },
    "tags": []
   },
   "source": [
    "### Distribution of Numerical Variables"
   ]
  },
  {
   "cell_type": "markdown",
   "id": "ab367031",
   "metadata": {
    "id": "26oBuCCFRHdt",
    "papermill": {
     "duration": 0.031032,
     "end_time": "2023-03-17T06:24:17.030473",
     "exception": false,
     "start_time": "2023-03-17T06:24:16.999441",
     "status": "completed"
    },
    "tags": []
   },
   "source": [
    "#### Histogram Distribution"
   ]
  },
  {
   "cell_type": "code",
   "execution_count": 124,
   "id": "faee6d05",
   "metadata": {
    "id": "nNQVNECjOV_R",
    "outputId": "dce6889b-2ed3-4aae-8d42-bb3c86c3c3fe",
    "papermill": {
     "duration": 1.307506,
     "end_time": "2023-03-17T06:24:18.369306",
     "exception": false,
     "start_time": "2023-03-17T06:24:17.061800",
     "status": "completed"
    },
    "tags": []
   },
   "outputs": [
    {
     "data": {
      "image/png": "[encoded data removed]",
      "text/plain": [
       "<Figure size 1000x800 with 3 Axes>"
      ]
     },
     "metadata": {},
     "output_type": "display_data"
    }
   ],
   "source": [
    "sns.set(style = \"darkgrid\")\n",
    "fig, axs = plt.subplots(1, 3, figsize=(10, 8))\n",
    "plt.subplot(1,3,1)\n",
    "sns.histplot(data = train, x = \"Applicant_Income\", kde = True, color = 'green')\n",
    "plt.subplot(1,3,2)\n",
    "sns.histplot(data = train, x = \"Coapplicant_Income\", kde = True, color = 'skyblue')\n",
    "plt.subplot(1,3,3)\n",
    "sns.histplot(data = train, x = \"Loan_Amount\", kde = True, color = 'orange');"
   ]
  },
  {
   "cell_type": "markdown",
   "id": "147f9bfd",
   "metadata": {
    "id": "26VEP1r5SyM_",
    "papermill": {
     "duration": 0.033666,
     "end_time": "2023-03-17T06:24:19.040340",
     "exception": false,
     "start_time": "2023-03-17T06:24:19.006674",
     "status": "completed"
    },
    "tags": []
   },
   "source": [
    "The distribution of Applicant_income, Co_Applicant Income, and Loan_Amount are positively skewed and contains outliers.\n",
    "\n",
    "The distribution of Loan_Amount Term is negativly skewed and contain outliers as well.\n",
    "\n"
   ]
  },
  {
   "cell_type": "markdown",
   "id": "cbc5b84c",
   "metadata": {
    "id": "sBAeM4ZWXuOI",
    "papermill": {
     "duration": 0.033664,
     "end_time": "2023-03-17T06:24:19.107954",
     "exception": false,
     "start_time": "2023-03-17T06:24:19.074290",
     "status": "completed"
    },
    "tags": []
   },
   "source": [
    "## Other Viz.\n"
   ]
  },
  {
   "cell_type": "markdown",
   "id": "08cc1204",
   "metadata": {
    "id": "GsaiF0JAYrTA",
    "papermill": {
     "duration": 0.033771,
     "end_time": "2023-03-17T06:24:19.176419",
     "exception": false,
     "start_time": "2023-03-17T06:24:19.142648",
     "status": "completed"
    },
    "tags": []
   },
   "source": [
    "### Heatmap"
   ]
  },
  {
   "cell_type": "code",
   "execution_count": 125,
   "id": "ef4730f9",
   "metadata": {
    "id": "eCrq4rn7XxTt",
    "outputId": "6da29569-579d-4249-fcb5-c4fc34655ec5",
    "papermill": {
     "duration": 0.445849,
     "end_time": "2023-03-17T06:24:19.656154",
     "exception": false,
     "start_time": "2023-03-17T06:24:19.210305",
     "status": "completed"
    },
    "tags": []
   },
   "outputs": [
    {
     "ename": "ValueError",
     "evalue": "could not convert string to float: 'Male'",
     "output_type": "error",
     "traceback": [
      "\u001b[1;31m---------------------------------------------------------------------------\u001b[0m",
      "\u001b[1;31mValueError\u001b[0m                                Traceback (most recent call last)",
      "Cell \u001b[1;32mIn[125], line 2\u001b[0m\n\u001b[0;32m      1\u001b[0m plt\u001b[38;5;241m.\u001b[39mfigure(figsize \u001b[38;5;241m=\u001b[39m (\u001b[38;5;241m10\u001b[39m,\u001b[38;5;241m5\u001b[39m))\n\u001b[1;32m----> 2\u001b[0m sns\u001b[38;5;241m.\u001b[39mheatmap(train\u001b[38;5;241m.\u001b[39mcorr(), annot \u001b[38;5;241m=\u001b[39m \u001b[38;5;28;01mTrue\u001b[39;00m)\n",
      "File \u001b[1;32mD:\\Users\\SHWETA VARMA\\anaconda3\\Lib\\site-packages\\pandas\\core\\frame.py:11049\u001b[0m, in \u001b[0;36mDataFrame.corr\u001b[1;34m(self, method, min_periods, numeric_only)\u001b[0m\n\u001b[0;32m  11047\u001b[0m cols \u001b[38;5;241m=\u001b[39m data\u001b[38;5;241m.\u001b[39mcolumns\n\u001b[0;32m  11048\u001b[0m idx \u001b[38;5;241m=\u001b[39m cols\u001b[38;5;241m.\u001b[39mcopy()\n\u001b[1;32m> 11049\u001b[0m mat \u001b[38;5;241m=\u001b[39m data\u001b[38;5;241m.\u001b[39mto_numpy(dtype\u001b[38;5;241m=\u001b[39m\u001b[38;5;28mfloat\u001b[39m, na_value\u001b[38;5;241m=\u001b[39mnp\u001b[38;5;241m.\u001b[39mnan, copy\u001b[38;5;241m=\u001b[39m\u001b[38;5;28;01mFalse\u001b[39;00m)\n\u001b[0;32m  11051\u001b[0m \u001b[38;5;28;01mif\u001b[39;00m method \u001b[38;5;241m==\u001b[39m \u001b[38;5;124m\"\u001b[39m\u001b[38;5;124mpearson\u001b[39m\u001b[38;5;124m\"\u001b[39m:\n\u001b[0;32m  11052\u001b[0m     correl \u001b[38;5;241m=\u001b[39m libalgos\u001b[38;5;241m.\u001b[39mnancorr(mat, minp\u001b[38;5;241m=\u001b[39mmin_periods)\n",
      "File \u001b[1;32mD:\\Users\\SHWETA VARMA\\anaconda3\\Lib\\site-packages\\pandas\\core\\frame.py:1993\u001b[0m, in \u001b[0;36mDataFrame.to_numpy\u001b[1;34m(self, dtype, copy, na_value)\u001b[0m\n\u001b[0;32m   1991\u001b[0m \u001b[38;5;28;01mif\u001b[39;00m dtype \u001b[38;5;129;01mis\u001b[39;00m \u001b[38;5;129;01mnot\u001b[39;00m \u001b[38;5;28;01mNone\u001b[39;00m:\n\u001b[0;32m   1992\u001b[0m     dtype \u001b[38;5;241m=\u001b[39m np\u001b[38;5;241m.\u001b[39mdtype(dtype)\n\u001b[1;32m-> 1993\u001b[0m result \u001b[38;5;241m=\u001b[39m \u001b[38;5;28mself\u001b[39m\u001b[38;5;241m.\u001b[39m_mgr\u001b[38;5;241m.\u001b[39mas_array(dtype\u001b[38;5;241m=\u001b[39mdtype, copy\u001b[38;5;241m=\u001b[39mcopy, na_value\u001b[38;5;241m=\u001b[39mna_value)\n\u001b[0;32m   1994\u001b[0m \u001b[38;5;28;01mif\u001b[39;00m result\u001b[38;5;241m.\u001b[39mdtype \u001b[38;5;129;01mis\u001b[39;00m \u001b[38;5;129;01mnot\u001b[39;00m dtype:\n\u001b[0;32m   1995\u001b[0m     result \u001b[38;5;241m=\u001b[39m np\u001b[38;5;241m.\u001b[39masarray(result, dtype\u001b[38;5;241m=\u001b[39mdtype)\n",
      "File \u001b[1;32mD:\\Users\\SHWETA VARMA\\anaconda3\\Lib\\site-packages\\pandas\\core\\internals\\managers.py:1694\u001b[0m, in \u001b[0;36mBlockManager.as_array\u001b[1;34m(self, dtype, copy, na_value)\u001b[0m\n\u001b[0;32m   1692\u001b[0m         arr\u001b[38;5;241m.\u001b[39mflags\u001b[38;5;241m.\u001b[39mwriteable \u001b[38;5;241m=\u001b[39m \u001b[38;5;28;01mFalse\u001b[39;00m\n\u001b[0;32m   1693\u001b[0m \u001b[38;5;28;01melse\u001b[39;00m:\n\u001b[1;32m-> 1694\u001b[0m     arr \u001b[38;5;241m=\u001b[39m \u001b[38;5;28mself\u001b[39m\u001b[38;5;241m.\u001b[39m_interleave(dtype\u001b[38;5;241m=\u001b[39mdtype, na_value\u001b[38;5;241m=\u001b[39mna_value)\n\u001b[0;32m   1695\u001b[0m     \u001b[38;5;66;03m# The underlying data was copied within _interleave, so no need\u001b[39;00m\n\u001b[0;32m   1696\u001b[0m     \u001b[38;5;66;03m# to further copy if copy=True or setting na_value\u001b[39;00m\n\u001b[0;32m   1698\u001b[0m \u001b[38;5;28;01mif\u001b[39;00m na_value \u001b[38;5;129;01mis\u001b[39;00m lib\u001b[38;5;241m.\u001b[39mno_default:\n",
      "File \u001b[1;32mD:\\Users\\SHWETA VARMA\\anaconda3\\Lib\\site-packages\\pandas\\core\\internals\\managers.py:1753\u001b[0m, in \u001b[0;36mBlockManager._interleave\u001b[1;34m(self, dtype, na_value)\u001b[0m\n\u001b[0;32m   1751\u001b[0m     \u001b[38;5;28;01melse\u001b[39;00m:\n\u001b[0;32m   1752\u001b[0m         arr \u001b[38;5;241m=\u001b[39m blk\u001b[38;5;241m.\u001b[39mget_values(dtype)\n\u001b[1;32m-> 1753\u001b[0m     result[rl\u001b[38;5;241m.\u001b[39mindexer] \u001b[38;5;241m=\u001b[39m arr\n\u001b[0;32m   1754\u001b[0m     itemmask[rl\u001b[38;5;241m.\u001b[39mindexer] \u001b[38;5;241m=\u001b[39m \u001b[38;5;241m1\u001b[39m\n\u001b[0;32m   1756\u001b[0m \u001b[38;5;28;01mif\u001b[39;00m \u001b[38;5;129;01mnot\u001b[39;00m itemmask\u001b[38;5;241m.\u001b[39mall():\n",
      "\u001b[1;31mValueError\u001b[0m: could not convert string to float: 'Male'"
     ]
    },
    {
     "data": {
      "text/plain": [
       "<Figure size 1000x500 with 0 Axes>"
      ]
     },
     "metadata": {},
     "output_type": "display_data"
    }
   ],
   "source": [
    "plt.figure(figsize = (10,5))\n",
    "sns.heatmap(train.corr(), annot = True)"
   ]
  },
  {
   "cell_type": "markdown",
   "id": "990382ef",
   "metadata": {
    "id": "BcZG6vDpfchM",
    "papermill": {
     "duration": 0.035226,
     "end_time": "2023-03-17T06:24:19.728321",
     "exception": false,
     "start_time": "2023-03-17T06:24:19.693095",
     "status": "completed"
    },
    "tags": []
   },
   "source": [
    "We observe positive correlation between Loan Amount and Applicant Income."
   ]
  },
  {
   "cell_type": "markdown",
   "id": "0a949ae8",
   "metadata": {
    "id": "IOm0V24oYyQb",
    "papermill": {
     "duration": 0.035855,
     "end_time": "2023-03-17T06:24:19.801736",
     "exception": false,
     "start_time": "2023-03-17T06:24:19.765881",
     "status": "completed"
    },
    "tags": []
   },
   "source": [
    "### Categorical v/s Categorical"
   ]
  },
  {
   "cell_type": "code",
   "execution_count": 126,
   "id": "e1c0af5d",
   "metadata": {
    "id": "sO2zNOYmYxkt",
    "outputId": "7c82b536-c697-4bbc-a0c2-ca483643c416",
    "papermill": {
     "duration": 0.322527,
     "end_time": "2023-03-17T06:24:20.160591",
     "exception": false,
     "start_time": "2023-03-17T06:24:19.838064",
     "status": "completed"
    },
    "tags": []
   },
   "outputs": [
    {
     "data": {
      "image/png": "[encoded data removed]",
      "text/plain": [
       "<Figure size 640x480 with 1 Axes>"
      ]
     },
     "metadata": {},
     "output_type": "display_data"
    }
   ],
   "source": [
    "pd.crosstab(train.Gender, train.Married).plot(kind = \"bar\", stacked = True)\n",
    "plt.title('Gender vs Married')\n",
    "plt.xlabel('Gender')\n",
    "plt.ylabel('Frequency')\n",
    "plt.xticks(rotation = 0)\n",
    "plt.show()"
   ]
  },
  {
   "cell_type": "markdown",
   "id": "4d475c3a",
   "metadata": {
    "id": "H2ic-PSOfxJq",
    "papermill": {
     "duration": 0.037623,
     "end_time": "2023-03-17T06:24:20.236517",
     "exception": false,
     "start_time": "2023-03-17T06:24:20.198894",
     "status": "completed"
    },
    "tags": []
   },
   "source": [
    "Most male applicants are already married compared to female applicants. Also, the number of not married male applicants are higher compare to female applicants that had not married."
   ]
  },
  {
   "cell_type": "code",
   "execution_count": 127,
   "id": "1fe9d29f",
   "metadata": {
    "id": "Qkge_XadbuLA",
    "outputId": "1b28f5a0-6a14-49e2-8ebb-a51569afcf52",
    "papermill": {
     "duration": 0.261367,
     "end_time": "2023-03-17T06:24:20.535376",
     "exception": false,
     "start_time": "2023-03-17T06:24:20.274009",
     "status": "completed"
    },
    "tags": []
   },
   "outputs": [
    {
     "data": {
      "image/png": "[encoded data removed]",
      "text/plain": [
       "<Figure size 640x480 with 1 Axes>"
      ]
     },
     "metadata": {},
     "output_type": "display_data"
    }
   ],
   "source": [
    "pd.crosstab(train.Self_Employed, train.Credit_History).plot(kind = \"bar\", stacked = True)\n",
    "plt.title('Self Employed vs Credit History')\n",
    "plt.xlabel('Self Employed')\n",
    "plt.ylabel('Frequency')\n",
    "plt.legend([\"Bad Credit\", \"Good Credit\"])\n",
    "plt.xticks(rotation = 0)\n",
    "plt.show()"
   ]
  },
  {
   "cell_type": "markdown",
   "id": "af023f26",
   "metadata": {
    "id": "Ab_vh1DWgFS3",
    "papermill": {
     "duration": 0.040126,
     "end_time": "2023-03-17T06:24:20.613087",
     "exception": false,
     "start_time": "2023-03-17T06:24:20.572961",
     "status": "completed"
    },
    "tags": []
   },
   "source": [
    "Most not self employed applicants have good credit compared to self employed applicants."
   ]
  },
  {
   "cell_type": "code",
   "execution_count": 128,
   "id": "43178257",
   "metadata": {
    "id": "p1ztJv3wcyRA",
    "outputId": "573daf75-3b49-4a30-8a0a-41e24e8d39d2",
    "papermill": {
     "duration": 0.271226,
     "end_time": "2023-03-17T06:24:20.922287",
     "exception": false,
     "start_time": "2023-03-17T06:24:20.651061",
     "status": "completed"
    },
    "tags": []
   },
   "outputs": [
    {
     "data": {
      "image/png": "[encoded data removed]",
      "text/plain": [
       "<Figure size 640x480 with 1 Axes>"
      ]
     },
     "metadata": {},
     "output_type": "display_data"
    }
   ],
   "source": [
    "pd.crosstab(train.Area, train.Status).plot(kind = \"bar\", stacked = True)\n",
    "plt.title('Property Area vs Loan Status')\n",
    "plt.xlabel('Property Area')\n",
    "plt.ylabel('Frequency')\n",
    "plt.xticks(rotation = 0)\n",
    "plt.show()"
   ]
  },
  {
   "cell_type": "markdown",
   "id": "9fdebdd8",
   "metadata": {
    "id": "yj4e2UvjgWsm",
    "papermill": {
     "duration": 0.038084,
     "end_time": "2023-03-17T06:24:20.999278",
     "exception": false,
     "start_time": "2023-03-17T06:24:20.961194",
     "status": "completed"
    },
    "tags": []
   },
   "source": [
    "Most of loans that got accepted has property in Semiurban compared to Urban and Rural."
   ]
  },
  {
   "cell_type": "markdown",
   "id": "d7aec671",
   "metadata": {
    "id": "GkPfU3KQdJvH",
    "papermill": {
     "duration": 0.038177,
     "end_time": "2023-03-17T06:24:21.076269",
     "exception": false,
     "start_time": "2023-03-17T06:24:21.038092",
     "status": "completed"
    },
    "tags": []
   },
   "source": [
    "### Categorical v/s Numerical"
   ]
  },
  {
   "cell_type": "code",
   "execution_count": 129,
   "id": "633c12d9",
   "metadata": {
    "id": "8KXyIhTWdNoP",
    "outputId": "858e47ba-e962-4dcf-a6bb-3a7b0fe9056b",
    "papermill": {
     "duration": 0.278643,
     "end_time": "2023-03-17T06:24:21.393018",
     "exception": false,
     "start_time": "2023-03-17T06:24:21.114375",
     "status": "completed"
    },
    "tags": []
   },
   "outputs": [
    {
     "data": {
      "image/png": "[encoded data removed]",
      "text/plain": [
       "<Figure size 640x480 with 1 Axes>"
      ]
     },
     "metadata": {},
     "output_type": "display_data"
    }
   ],
   "source": [
    "sns.boxplot(x = \"Status\", y = \"Applicant_Income\", data = train, palette = 'crest');"
   ]
  },
  {
   "cell_type": "markdown",
   "id": "b5f89140",
   "metadata": {
    "id": "sK5NrWpdiIbg",
    "papermill": {
     "duration": 0.03833,
     "end_time": "2023-03-17T06:24:21.471434",
     "exception": false,
     "start_time": "2023-03-17T06:24:21.433104",
     "status": "completed"
    },
    "tags": []
   },
   "source": [
    "We can observe that there are lots of outliers in Applicant Income, and the distribution also positively skewed."
   ]
  },
  {
   "cell_type": "code",
   "execution_count": 130,
   "id": "fcc8d6a6",
   "metadata": {
    "id": "UQgw9pSSdNgK",
    "outputId": "53c15b67-af8c-4862-9aa2-d12fc8e589ab",
    "papermill": {
     "duration": 0.248025,
     "end_time": "2023-03-17T06:24:21.758385",
     "exception": false,
     "start_time": "2023-03-17T06:24:21.510360",
     "status": "completed"
    },
    "tags": []
   },
   "outputs": [
    {
     "data": {
      "image/png": "[encoded data removed]",
      "text/plain": [
       "<Figure size 640x480 with 1 Axes>"
      ]
     },
     "metadata": {},
     "output_type": "display_data"
    }
   ],
   "source": [
    "sns.boxplot(x = \"Status\", y = \"Coapplicant_Income\", data = train, palette=\"crest\");"
   ]
  },
  {
   "cell_type": "markdown",
   "id": "d4d94c46",
   "metadata": {
    "id": "Y7DFLTqpibiJ",
    "papermill": {
     "duration": 0.038408,
     "end_time": "2023-03-17T06:24:21.836058",
     "exception": false,
     "start_time": "2023-03-17T06:24:21.797650",
     "status": "completed"
    },
    "tags": []
   },
   "source": [
    "It's clear that Co Applicant Income has a number of outliers, and the distribution is also positively skewed."
   ]
  },
  {
   "cell_type": "code",
   "execution_count": 131,
   "id": "59ec2856",
   "metadata": {
    "id": "341fyImTdNO9",
    "outputId": "940b5c2a-36f2-4975-d3e2-1d791f5ded44",
    "papermill": {
     "duration": 0.268235,
     "end_time": "2023-03-17T06:24:22.143057",
     "exception": false,
     "start_time": "2023-03-17T06:24:21.874822",
     "status": "completed"
    },
    "tags": []
   },
   "outputs": [
    {
     "data": {
      "image/png": "[encoded data removed]",
      "text/plain": [
       "<Figure size 640x480 with 1 Axes>"
      ]
     },
     "metadata": {},
     "output_type": "display_data"
    }
   ],
   "source": [
    "sns.boxplot(x = \"Status\", y = \"Loan_Amount\", data = train, palette = \"crest\");"
   ]
  },
  {
   "cell_type": "markdown",
   "id": "a93a6913",
   "metadata": {
    "id": "35BpJYOJio5M",
    "papermill": {
     "duration": 0.039128,
     "end_time": "2023-03-17T06:24:22.223041",
     "exception": false,
     "start_time": "2023-03-17T06:24:22.183913",
     "status": "completed"
    },
    "tags": []
   },
   "source": [
    "We observe that Loan Amount has a high number of outliers, and the distribution is also positively skewed."
   ]
  },
  {
   "cell_type": "markdown",
   "id": "84982367",
   "metadata": {
    "id": "qwYT4WuSi1BA",
    "papermill": {
     "duration": 0.038853,
     "end_time": "2023-03-17T06:24:22.301261",
     "exception": false,
     "start_time": "2023-03-17T06:24:22.262408",
     "status": "completed"
    },
    "tags": []
   },
   "source": [
    "### Numerical v/s Numerical"
   ]
  },
  {
   "cell_type": "code",
   "execution_count": 132,
   "id": "e2e04ad5",
   "metadata": {
    "id": "xEWeAA3Fi3XJ",
    "outputId": "224c9fbc-caae-48cc-9970-efdafe9c2707",
    "papermill": {
     "duration": 0.326313,
     "end_time": "2023-03-17T06:24:22.666801",
     "exception": false,
     "start_time": "2023-03-17T06:24:22.340488",
     "status": "completed"
    },
    "tags": []
   },
   "outputs": [
    {
     "data": {
      "image/png": "[encoded data removed]",
      "text/plain": [
       "<Figure size 640x480 with 1 Axes>"
      ]
     },
     "metadata": {},
     "output_type": "display_data"
    },
    {
     "name": "stdout",
     "output_type": "stream",
     "text": [
      "Pearson correlation: -0.11660458122889981\n",
      "T Test and P value: \n",
      " TtestResult(statistic=13.835753259915663, pvalue=1.4609839484240346e-40, df=1226.0)\n"
     ]
    }
   ],
   "source": [
    "train.plot(x = 'Applicant_Income', y = 'Coapplicant_Income', style = 'o')  \n",
    "plt.title('Applicant Income v/s Co Applicant Income')  \n",
    "plt.xlabel('Applicant_Income')\n",
    "plt.ylabel('Coapplicant_Income')  \n",
    "plt.show()\n",
    "print('Pearson correlation:', train['Applicant_Income'].corr(train['Coapplicant_Income']))\n",
    "print('T Test and P value: \\n', stats.ttest_ind(train['Applicant_Income'], train['Coapplicant_Income']))"
   ]
  },
  {
   "cell_type": "markdown",
   "id": "84e7630a",
   "metadata": {
    "id": "9W0f-Mi5q_WA",
    "papermill": {
     "duration": 0.040111,
     "end_time": "2023-03-17T06:24:22.748099",
     "exception": false,
     "start_time": "2023-03-17T06:24:22.707988",
     "status": "completed"
    },
    "tags": []
   },
   "source": [
    "There exists negative correlation between Applicant income and Co Applicant Income.\n",
    "\n",
    "The correlation coefficient is significant at the 95 per cent confidence interval, as it has a p-value of 1.46.\n"
   ]
  },
  {
   "cell_type": "markdown",
   "id": "00d6288d",
   "metadata": {
    "id": "QU1o1gDNqtjE",
    "papermill": {
     "duration": 0.039722,
     "end_time": "2023-03-17T06:24:22.828119",
     "exception": false,
     "start_time": "2023-03-17T06:24:22.788397",
     "status": "completed"
    },
    "tags": []
   },
   "source": [
    "# Data Preprocessing"
   ]
  },
  {
   "cell_type": "markdown",
   "id": "503cb3d8",
   "metadata": {
    "id": "Jq0D9_A1VSV9",
    "papermill": {
     "duration": 0.040936,
     "end_time": "2023-03-17T06:24:22.908974",
     "exception": false,
     "start_time": "2023-03-17T06:24:22.868038",
     "status": "completed"
    },
    "tags": []
   },
   "source": [
    "## Dealing with null values"
   ]
  },
  {
   "cell_type": "code",
   "execution_count": 133,
   "id": "60c5b860",
   "metadata": {
    "id": "Buorzh0-VVPS",
    "outputId": "652b72c7-3461-4004-906c-25360b7e3c66",
    "papermill": {
     "duration": 0.067316,
     "end_time": "2023-03-17T06:24:23.022331",
     "exception": false,
     "start_time": "2023-03-17T06:24:22.955015",
     "status": "completed"
    },
    "tags": []
   },
   "outputs": [
    {
     "data": {
      "text/plain": [
       "Gender                13\n",
       "Married                3\n",
       "Dependents            15\n",
       "Education              0\n",
       "Self_Employed         32\n",
       "Applicant_Income       0\n",
       "Coapplicant_Income     0\n",
       "Loan_Amount            0\n",
       "Term                  14\n",
       "Credit_History        50\n",
       "Area                   0\n",
       "Status                 0\n",
       "dtype: int64"
      ]
     },
     "execution_count": 133,
     "metadata": {},
     "output_type": "execute_result"
    }
   ],
   "source": [
    "train.isnull().sum()"
   ]
  },
  {
   "cell_type": "markdown",
   "id": "b7ab2e29",
   "metadata": {
    "id": "E9RXvNsoV16b",
    "papermill": {
     "duration": 0.039815,
     "end_time": "2023-03-17T06:24:23.102719",
     "exception": false,
     "start_time": "2023-03-17T06:24:23.062904",
     "status": "completed"
    },
    "tags": []
   },
   "source": [
    "### Data Imputation for categorical variables\n"
   ]
  },
  {
   "cell_type": "code",
   "execution_count": 134,
   "id": "b0006277",
   "metadata": {
    "id": "1Dna_U33V09a",
    "papermill": {
     "duration": 0.056118,
     "end_time": "2023-03-17T06:24:23.199336",
     "exception": false,
     "start_time": "2023-03-17T06:24:23.143218",
     "status": "completed"
    },
    "tags": []
   },
   "outputs": [],
   "source": [
    "train['Gender'].fillna(train['Gender'].mode()[0],inplace = True)\n",
    "train['Married'].fillna(train['Married'].mode()[0],inplace = True)\n",
    "train['Dependents'].fillna(train['Dependents'].mode()[0],inplace = True)\n",
    "train['Self_Employed'].fillna(train['Self_Employed'].mode()[0],inplace = True)\n",
    "train['Credit_History'].fillna(train['Credit_History'].mode()[0],inplace = True)\n",
    "train['Term'].fillna(train['Term'].mode()[0],inplace = True)"
   ]
  },
  {
   "cell_type": "markdown",
   "id": "36f8fb56",
   "metadata": {
    "id": "dJ1GyhFup8Df",
    "papermill": {
     "duration": 0.039836,
     "end_time": "2023-03-17T06:24:23.279964",
     "exception": false,
     "start_time": "2023-03-17T06:24:23.240128",
     "status": "completed"
    },
    "tags": []
   },
   "source": [
    "Similarly we impute for the test set as well."
   ]
  },
  {
   "cell_type": "code",
   "execution_count": 135,
   "id": "e0189977",
   "metadata": {
    "id": "NqMdaqLap7Y0",
    "papermill": {
     "duration": 0.056524,
     "end_time": "2023-03-17T06:24:23.376757",
     "exception": false,
     "start_time": "2023-03-17T06:24:23.320233",
     "status": "completed"
    },
    "tags": []
   },
   "outputs": [],
   "source": [
    "test['Gender'].fillna(test['Gender'].mode()[0],inplace = True)\n",
    "test['Married'].fillna(test['Married'].mode()[0],inplace = True)\n",
    "test['Dependents'].fillna(test['Dependents'].mode()[0],inplace = True)\n",
    "test['Self_Employed'].fillna(test['Self_Employed'].mode()[0],inplace = True)\n",
    "test['Credit_History'].fillna(test['Credit_History'].mode()[0],inplace = True)\n",
    "test['Term'].fillna(test['Term'].mode()[0],inplace = True)"
   ]
  },
  {
   "cell_type": "markdown",
   "id": "70a4a3f1",
   "metadata": {
    "id": "7s3L4BM0Gvpr",
    "papermill": {
     "duration": 0.039902,
     "end_time": "2023-03-17T06:24:23.456853",
     "exception": false,
     "start_time": "2023-03-17T06:24:23.416951",
     "status": "completed"
    },
    "tags": []
   },
   "source": [
    "### Data Imputation for numerical variables"
   ]
  },
  {
   "cell_type": "code",
   "execution_count": 137,
   "id": "b92276ed",
   "metadata": {
    "id": "OayJ893bG665",
    "papermill": {
     "duration": 0.050148,
     "end_time": "2023-03-17T06:24:23.547517",
     "exception": false,
     "start_time": "2023-03-17T06:24:23.497369",
     "status": "completed"
    },
    "tags": []
   },
   "outputs": [],
   "source": [
    "train['Loan_Amount'].fillna(train['Loan_Amount'].mean(),inplace = True)"
   ]
  },
  {
   "cell_type": "code",
   "execution_count": 138,
   "id": "0211401d",
   "metadata": {
    "id": "Q2oAQXixqWsQ",
    "papermill": {
     "duration": 0.050211,
     "end_time": "2023-03-17T06:24:23.638843",
     "exception": false,
     "start_time": "2023-03-17T06:24:23.588632",
     "status": "completed"
    },
    "tags": []
   },
   "outputs": [],
   "source": [
    "test['Loan_Amount'].fillna(test['Loan_Amount'].mean(),inplace = True)"
   ]
  },
  {
   "cell_type": "code",
   "execution_count": 139,
   "id": "43947b4e-ffc5-40a9-b56b-8350f38aed5a",
   "metadata": {},
   "outputs": [
    {
     "data": {
      "text/html": [
       "<div>\n",
       "<style scoped>\n",
       "    .dataframe tbody tr th:only-of-type {\n",
       "        vertical-align: middle;\n",
       "    }\n",
       "\n",
       "    .dataframe tbody tr th {\n",
       "        vertical-align: top;\n",
       "    }\n",
       "\n",
       "    .dataframe thead th {\n",
       "        text-align: right;\n",
       "    }\n",
       "</style>\n",
       "<table border=\"1\" class=\"dataframe\">\n",
       "  <thead>\n",
       "    <tr style=\"text-align: right;\">\n",
       "      <th></th>\n",
       "      <th>Gender</th>\n",
       "      <th>Married</th>\n",
       "      <th>Dependents</th>\n",
       "      <th>Education</th>\n",
       "      <th>Self_Employed</th>\n",
       "      <th>Applicant_Income</th>\n",
       "      <th>Coapplicant_Income</th>\n",
       "      <th>Loan_Amount</th>\n",
       "      <th>Term</th>\n",
       "      <th>Credit_History</th>\n",
       "      <th>Area</th>\n",
       "      <th>Status</th>\n",
       "    </tr>\n",
       "  </thead>\n",
       "  <tbody>\n",
       "    <tr>\n",
       "      <th>0</th>\n",
       "      <td>Male</td>\n",
       "      <td>No</td>\n",
       "      <td>0</td>\n",
       "      <td>Graduate</td>\n",
       "      <td>No</td>\n",
       "      <td>584900</td>\n",
       "      <td>0.0</td>\n",
       "      <td>15000000</td>\n",
       "      <td>360.0</td>\n",
       "      <td>1.0</td>\n",
       "      <td>Urban</td>\n",
       "      <td>Y</td>\n",
       "    </tr>\n",
       "    <tr>\n",
       "      <th>1</th>\n",
       "      <td>Male</td>\n",
       "      <td>Yes</td>\n",
       "      <td>1</td>\n",
       "      <td>Graduate</td>\n",
       "      <td>No</td>\n",
       "      <td>458300</td>\n",
       "      <td>150800.0</td>\n",
       "      <td>12800000</td>\n",
       "      <td>360.0</td>\n",
       "      <td>1.0</td>\n",
       "      <td>Rural</td>\n",
       "      <td>N</td>\n",
       "    </tr>\n",
       "    <tr>\n",
       "      <th>2</th>\n",
       "      <td>Male</td>\n",
       "      <td>Yes</td>\n",
       "      <td>0</td>\n",
       "      <td>Graduate</td>\n",
       "      <td>Yes</td>\n",
       "      <td>300000</td>\n",
       "      <td>0.0</td>\n",
       "      <td>6600000</td>\n",
       "      <td>360.0</td>\n",
       "      <td>1.0</td>\n",
       "      <td>Urban</td>\n",
       "      <td>Y</td>\n",
       "    </tr>\n",
       "    <tr>\n",
       "      <th>3</th>\n",
       "      <td>Male</td>\n",
       "      <td>Yes</td>\n",
       "      <td>0</td>\n",
       "      <td>Not Graduate</td>\n",
       "      <td>No</td>\n",
       "      <td>258300</td>\n",
       "      <td>235800.0</td>\n",
       "      <td>12000000</td>\n",
       "      <td>360.0</td>\n",
       "      <td>1.0</td>\n",
       "      <td>Urban</td>\n",
       "      <td>Y</td>\n",
       "    </tr>\n",
       "    <tr>\n",
       "      <th>4</th>\n",
       "      <td>Male</td>\n",
       "      <td>No</td>\n",
       "      <td>0</td>\n",
       "      <td>Graduate</td>\n",
       "      <td>No</td>\n",
       "      <td>600000</td>\n",
       "      <td>0.0</td>\n",
       "      <td>14100000</td>\n",
       "      <td>360.0</td>\n",
       "      <td>1.0</td>\n",
       "      <td>Urban</td>\n",
       "      <td>Y</td>\n",
       "    </tr>\n",
       "    <tr>\n",
       "      <th>...</th>\n",
       "      <td>...</td>\n",
       "      <td>...</td>\n",
       "      <td>...</td>\n",
       "      <td>...</td>\n",
       "      <td>...</td>\n",
       "      <td>...</td>\n",
       "      <td>...</td>\n",
       "      <td>...</td>\n",
       "      <td>...</td>\n",
       "      <td>...</td>\n",
       "      <td>...</td>\n",
       "      <td>...</td>\n",
       "    </tr>\n",
       "    <tr>\n",
       "      <th>609</th>\n",
       "      <td>Female</td>\n",
       "      <td>No</td>\n",
       "      <td>0</td>\n",
       "      <td>Graduate</td>\n",
       "      <td>No</td>\n",
       "      <td>290000</td>\n",
       "      <td>0.0</td>\n",
       "      <td>7100000</td>\n",
       "      <td>360.0</td>\n",
       "      <td>1.0</td>\n",
       "      <td>Rural</td>\n",
       "      <td>Y</td>\n",
       "    </tr>\n",
       "    <tr>\n",
       "      <th>610</th>\n",
       "      <td>Male</td>\n",
       "      <td>Yes</td>\n",
       "      <td>3+</td>\n",
       "      <td>Graduate</td>\n",
       "      <td>No</td>\n",
       "      <td>410600</td>\n",
       "      <td>0.0</td>\n",
       "      <td>4000000</td>\n",
       "      <td>180.0</td>\n",
       "      <td>1.0</td>\n",
       "      <td>Rural</td>\n",
       "      <td>Y</td>\n",
       "    </tr>\n",
       "    <tr>\n",
       "      <th>611</th>\n",
       "      <td>Male</td>\n",
       "      <td>Yes</td>\n",
       "      <td>1</td>\n",
       "      <td>Graduate</td>\n",
       "      <td>No</td>\n",
       "      <td>807200</td>\n",
       "      <td>24000.0</td>\n",
       "      <td>25300000</td>\n",
       "      <td>360.0</td>\n",
       "      <td>1.0</td>\n",
       "      <td>Urban</td>\n",
       "      <td>Y</td>\n",
       "    </tr>\n",
       "    <tr>\n",
       "      <th>612</th>\n",
       "      <td>Male</td>\n",
       "      <td>Yes</td>\n",
       "      <td>2</td>\n",
       "      <td>Graduate</td>\n",
       "      <td>No</td>\n",
       "      <td>758300</td>\n",
       "      <td>0.0</td>\n",
       "      <td>18700000</td>\n",
       "      <td>360.0</td>\n",
       "      <td>1.0</td>\n",
       "      <td>Urban</td>\n",
       "      <td>Y</td>\n",
       "    </tr>\n",
       "    <tr>\n",
       "      <th>613</th>\n",
       "      <td>Female</td>\n",
       "      <td>No</td>\n",
       "      <td>0</td>\n",
       "      <td>Graduate</td>\n",
       "      <td>Yes</td>\n",
       "      <td>458300</td>\n",
       "      <td>0.0</td>\n",
       "      <td>13300000</td>\n",
       "      <td>360.0</td>\n",
       "      <td>0.0</td>\n",
       "      <td>Semiurban</td>\n",
       "      <td>N</td>\n",
       "    </tr>\n",
       "  </tbody>\n",
       "</table>\n",
       "<p>614 rows × 12 columns</p>\n",
       "</div>"
      ],
      "text/plain": [
       "     Gender Married Dependents     Education Self_Employed  Applicant_Income  \\\n",
       "0      Male      No          0      Graduate            No            584900   \n",
       "1      Male     Yes          1      Graduate            No            458300   \n",
       "2      Male     Yes          0      Graduate           Yes            300000   \n",
       "3      Male     Yes          0  Not Graduate            No            258300   \n",
       "4      Male      No          0      Graduate            No            600000   \n",
       "..      ...     ...        ...           ...           ...               ...   \n",
       "609  Female      No          0      Graduate            No            290000   \n",
       "610    Male     Yes         3+      Graduate            No            410600   \n",
       "611    Male     Yes          1      Graduate            No            807200   \n",
       "612    Male     Yes          2      Graduate            No            758300   \n",
       "613  Female      No          0      Graduate           Yes            458300   \n",
       "\n",
       "     Coapplicant_Income  Loan_Amount   Term  Credit_History       Area Status  \n",
       "0                   0.0     15000000  360.0             1.0      Urban      Y  \n",
       "1              150800.0     12800000  360.0             1.0      Rural      N  \n",
       "2                   0.0      6600000  360.0             1.0      Urban      Y  \n",
       "3              235800.0     12000000  360.0             1.0      Urban      Y  \n",
       "4                   0.0     14100000  360.0             1.0      Urban      Y  \n",
       "..                  ...          ...    ...             ...        ...    ...  \n",
       "609                 0.0      7100000  360.0             1.0      Rural      Y  \n",
       "610                 0.0      4000000  180.0             1.0      Rural      Y  \n",
       "611             24000.0     25300000  360.0             1.0      Urban      Y  \n",
       "612                 0.0     18700000  360.0             1.0      Urban      Y  \n",
       "613                 0.0     13300000  360.0             0.0  Semiurban      N  \n",
       "\n",
       "[614 rows x 12 columns]"
      ]
     },
     "execution_count": 139,
     "metadata": {},
     "output_type": "execute_result"
    }
   ],
   "source": [
    "train"
   ]
  },
  {
   "cell_type": "code",
   "execution_count": 140,
   "id": "5549fa2a-3671-49cc-afc6-04c1eef9d33a",
   "metadata": {},
   "outputs": [
    {
     "data": {
      "text/html": [
       "<div>\n",
       "<style scoped>\n",
       "    .dataframe tbody tr th:only-of-type {\n",
       "        vertical-align: middle;\n",
       "    }\n",
       "\n",
       "    .dataframe tbody tr th {\n",
       "        vertical-align: top;\n",
       "    }\n",
       "\n",
       "    .dataframe thead th {\n",
       "        text-align: right;\n",
       "    }\n",
       "</style>\n",
       "<table border=\"1\" class=\"dataframe\">\n",
       "  <thead>\n",
       "    <tr style=\"text-align: right;\">\n",
       "      <th></th>\n",
       "      <th>Gender</th>\n",
       "      <th>Married</th>\n",
       "      <th>Dependents</th>\n",
       "      <th>Education</th>\n",
       "      <th>Self_Employed</th>\n",
       "      <th>Applicant_Income</th>\n",
       "      <th>Coapplicant_Income</th>\n",
       "      <th>Loan_Amount</th>\n",
       "      <th>Term</th>\n",
       "      <th>Credit_History</th>\n",
       "      <th>Area</th>\n",
       "    </tr>\n",
       "  </thead>\n",
       "  <tbody>\n",
       "    <tr>\n",
       "      <th>0</th>\n",
       "      <td>Male</td>\n",
       "      <td>Yes</td>\n",
       "      <td>0</td>\n",
       "      <td>Graduate</td>\n",
       "      <td>No</td>\n",
       "      <td>572000</td>\n",
       "      <td>0</td>\n",
       "      <td>11000000</td>\n",
       "      <td>360.0</td>\n",
       "      <td>1.0</td>\n",
       "      <td>Urban</td>\n",
       "    </tr>\n",
       "    <tr>\n",
       "      <th>1</th>\n",
       "      <td>Male</td>\n",
       "      <td>Yes</td>\n",
       "      <td>1</td>\n",
       "      <td>Graduate</td>\n",
       "      <td>No</td>\n",
       "      <td>307600</td>\n",
       "      <td>150000</td>\n",
       "      <td>12600000</td>\n",
       "      <td>360.0</td>\n",
       "      <td>1.0</td>\n",
       "      <td>Urban</td>\n",
       "    </tr>\n",
       "    <tr>\n",
       "      <th>2</th>\n",
       "      <td>Male</td>\n",
       "      <td>Yes</td>\n",
       "      <td>2</td>\n",
       "      <td>Graduate</td>\n",
       "      <td>No</td>\n",
       "      <td>500000</td>\n",
       "      <td>180000</td>\n",
       "      <td>20800000</td>\n",
       "      <td>360.0</td>\n",
       "      <td>1.0</td>\n",
       "      <td>Urban</td>\n",
       "    </tr>\n",
       "    <tr>\n",
       "      <th>3</th>\n",
       "      <td>Male</td>\n",
       "      <td>Yes</td>\n",
       "      <td>2</td>\n",
       "      <td>Graduate</td>\n",
       "      <td>No</td>\n",
       "      <td>234000</td>\n",
       "      <td>254600</td>\n",
       "      <td>10000000</td>\n",
       "      <td>360.0</td>\n",
       "      <td>1.0</td>\n",
       "      <td>Urban</td>\n",
       "    </tr>\n",
       "    <tr>\n",
       "      <th>4</th>\n",
       "      <td>Male</td>\n",
       "      <td>No</td>\n",
       "      <td>0</td>\n",
       "      <td>Not Graduate</td>\n",
       "      <td>No</td>\n",
       "      <td>327600</td>\n",
       "      <td>0</td>\n",
       "      <td>7800000</td>\n",
       "      <td>360.0</td>\n",
       "      <td>1.0</td>\n",
       "      <td>Urban</td>\n",
       "    </tr>\n",
       "    <tr>\n",
       "      <th>...</th>\n",
       "      <td>...</td>\n",
       "      <td>...</td>\n",
       "      <td>...</td>\n",
       "      <td>...</td>\n",
       "      <td>...</td>\n",
       "      <td>...</td>\n",
       "      <td>...</td>\n",
       "      <td>...</td>\n",
       "      <td>...</td>\n",
       "      <td>...</td>\n",
       "      <td>...</td>\n",
       "    </tr>\n",
       "    <tr>\n",
       "      <th>362</th>\n",
       "      <td>Male</td>\n",
       "      <td>Yes</td>\n",
       "      <td>3+</td>\n",
       "      <td>Not Graduate</td>\n",
       "      <td>Yes</td>\n",
       "      <td>400900</td>\n",
       "      <td>177700</td>\n",
       "      <td>11300000</td>\n",
       "      <td>360.0</td>\n",
       "      <td>1.0</td>\n",
       "      <td>Urban</td>\n",
       "    </tr>\n",
       "    <tr>\n",
       "      <th>363</th>\n",
       "      <td>Male</td>\n",
       "      <td>Yes</td>\n",
       "      <td>0</td>\n",
       "      <td>Graduate</td>\n",
       "      <td>No</td>\n",
       "      <td>415800</td>\n",
       "      <td>70900</td>\n",
       "      <td>11500000</td>\n",
       "      <td>360.0</td>\n",
       "      <td>1.0</td>\n",
       "      <td>Urban</td>\n",
       "    </tr>\n",
       "    <tr>\n",
       "      <th>364</th>\n",
       "      <td>Male</td>\n",
       "      <td>No</td>\n",
       "      <td>0</td>\n",
       "      <td>Graduate</td>\n",
       "      <td>No</td>\n",
       "      <td>325000</td>\n",
       "      <td>199300</td>\n",
       "      <td>12600000</td>\n",
       "      <td>360.0</td>\n",
       "      <td>1.0</td>\n",
       "      <td>Semiurban</td>\n",
       "    </tr>\n",
       "    <tr>\n",
       "      <th>365</th>\n",
       "      <td>Male</td>\n",
       "      <td>Yes</td>\n",
       "      <td>0</td>\n",
       "      <td>Graduate</td>\n",
       "      <td>No</td>\n",
       "      <td>500000</td>\n",
       "      <td>239300</td>\n",
       "      <td>15800000</td>\n",
       "      <td>360.0</td>\n",
       "      <td>1.0</td>\n",
       "      <td>Rural</td>\n",
       "    </tr>\n",
       "    <tr>\n",
       "      <th>366</th>\n",
       "      <td>Male</td>\n",
       "      <td>No</td>\n",
       "      <td>0</td>\n",
       "      <td>Graduate</td>\n",
       "      <td>Yes</td>\n",
       "      <td>920000</td>\n",
       "      <td>0</td>\n",
       "      <td>9800000</td>\n",
       "      <td>180.0</td>\n",
       "      <td>1.0</td>\n",
       "      <td>Rural</td>\n",
       "    </tr>\n",
       "  </tbody>\n",
       "</table>\n",
       "<p>367 rows × 11 columns</p>\n",
       "</div>"
      ],
      "text/plain": [
       "    Gender Married Dependents     Education Self_Employed  Applicant_Income  \\\n",
       "0     Male     Yes          0      Graduate            No            572000   \n",
       "1     Male     Yes          1      Graduate            No            307600   \n",
       "2     Male     Yes          2      Graduate            No            500000   \n",
       "3     Male     Yes          2      Graduate            No            234000   \n",
       "4     Male      No          0  Not Graduate            No            327600   \n",
       "..     ...     ...        ...           ...           ...               ...   \n",
       "362   Male     Yes         3+  Not Graduate           Yes            400900   \n",
       "363   Male     Yes          0      Graduate            No            415800   \n",
       "364   Male      No          0      Graduate            No            325000   \n",
       "365   Male     Yes          0      Graduate            No            500000   \n",
       "366   Male      No          0      Graduate           Yes            920000   \n",
       "\n",
       "     Coapplicant_Income  Loan_Amount   Term  Credit_History       Area  \n",
       "0                     0     11000000  360.0             1.0      Urban  \n",
       "1                150000     12600000  360.0             1.0      Urban  \n",
       "2                180000     20800000  360.0             1.0      Urban  \n",
       "3                254600     10000000  360.0             1.0      Urban  \n",
       "4                     0      7800000  360.0             1.0      Urban  \n",
       "..                  ...          ...    ...             ...        ...  \n",
       "362              177700     11300000  360.0             1.0      Urban  \n",
       "363               70900     11500000  360.0             1.0      Urban  \n",
       "364              199300     12600000  360.0             1.0  Semiurban  \n",
       "365              239300     15800000  360.0             1.0      Rural  \n",
       "366                   0      9800000  180.0             1.0      Rural  \n",
       "\n",
       "[367 rows x 11 columns]"
      ]
     },
     "execution_count": 140,
     "metadata": {},
     "output_type": "execute_result"
    }
   ],
   "source": [
    "test"
   ]
  },
  {
   "cell_type": "markdown",
   "id": "b3bcdbae",
   "metadata": {
    "id": "svjroAn8KInZ",
    "papermill": {
     "duration": 0.040679,
     "end_time": "2023-03-17T06:24:23.720532",
     "exception": false,
     "start_time": "2023-03-17T06:24:23.679853",
     "status": "completed"
    },
    "tags": []
   },
   "source": [
    "## One-hot Encoding"
   ]
  },
  {
   "cell_type": "code",
   "execution_count": 68,
   "id": "7eb63271",
   "metadata": {
    "id": "JPrZD3MHLBJO",
    "papermill": {
     "duration": 0.062194,
     "end_time": "2023-03-17T06:24:23.822942",
     "exception": false,
     "start_time": "2023-03-17T06:24:23.760748",
     "status": "completed"
    },
    "tags": []
   },
   "outputs": [],
   "source": [
    "train = pd.get_dummies(train)\n",
    "\n",
    "# Drop columns\n",
    "train = train.drop(['Gender_Female', 'Married_No', 'Education_Not Graduate', \n",
    "              'Self_Employed_No', 'Status_N'], axis = 1)\n",
    "\n",
    "# Rename columns name\n",
    "new = {'Gender_Male': 'Gender', 'Married_Yes': 'Married', \n",
    "       'Education_Graduate': 'Education', 'Self_Employed_Yes': 'Self_Employed',\n",
    "       'Loan_Status_Y': 'Loan_Status'}\n",
    "       \n",
    "train.rename(columns = new, inplace = True)"
   ]
  },
  {
   "cell_type": "code",
   "execution_count": 69,
   "id": "2be5ef12",
   "metadata": {
    "id": "_slwNJDPq3Kw",
    "papermill": {
     "duration": 0.063697,
     "end_time": "2023-03-17T06:24:23.927486",
     "exception": false,
     "start_time": "2023-03-17T06:24:23.863789",
     "status": "completed"
    },
    "tags": []
   },
   "outputs": [],
   "source": [
    "test = pd.get_dummies(test)\n",
    "\n",
    "# Drop columns\n",
    "test = test.drop(['Gender_Female', 'Married_No', 'Education_Not Graduate', \n",
    "              'Self_Employed_No'], axis = 1)\n",
    "\n",
    "# Rename columns name\n",
    "new = {'Gender_Male': 'Gender', 'Married_Yes': 'Married', \n",
    "       'Education_Graduate': 'Education', 'Self_Employed_Yes': 'Self_Employed',\n",
    "       'Loan_Status_Y': 'Loan_Status'}\n",
    "       \n",
    "test.rename(columns = new, inplace = True)"
   ]
  },
  {
   "cell_type": "code",
   "execution_count": 93,
   "id": "b755b5da-3e20-48ad-a4f7-3350cfb68a92",
   "metadata": {},
   "outputs": [
    {
     "data": {
      "text/html": [
       "<div>\n",
       "<style scoped>\n",
       "    .dataframe tbody tr th:only-of-type {\n",
       "        vertical-align: middle;\n",
       "    }\n",
       "\n",
       "    .dataframe tbody tr th {\n",
       "        vertical-align: top;\n",
       "    }\n",
       "\n",
       "    .dataframe thead th {\n",
       "        text-align: right;\n",
       "    }\n",
       "</style>\n",
       "<table border=\"1\" class=\"dataframe\">\n",
       "  <thead>\n",
       "    <tr style=\"text-align: right;\">\n",
       "      <th></th>\n",
       "      <th>Applicant_Income</th>\n",
       "      <th>Coapplicant_Income</th>\n",
       "      <th>Loan_Amount</th>\n",
       "      <th>Term</th>\n",
       "      <th>Credit_History</th>\n",
       "      <th>Gender</th>\n",
       "      <th>Married</th>\n",
       "      <th>Dependents_0</th>\n",
       "      <th>Dependents_1</th>\n",
       "      <th>Dependents_2</th>\n",
       "      <th>Dependents_3+</th>\n",
       "      <th>Education</th>\n",
       "      <th>Self_Employed</th>\n",
       "      <th>Area_Rural</th>\n",
       "      <th>Area_Semiurban</th>\n",
       "      <th>Area_Urban</th>\n",
       "      <th>Status_Y</th>\n",
       "    </tr>\n",
       "  </thead>\n",
       "  <tbody>\n",
       "    <tr>\n",
       "      <th>0</th>\n",
       "      <td>584900</td>\n",
       "      <td>0.0</td>\n",
       "      <td>15000000</td>\n",
       "      <td>360.0</td>\n",
       "      <td>1.0</td>\n",
       "      <td>True</td>\n",
       "      <td>False</td>\n",
       "      <td>True</td>\n",
       "      <td>False</td>\n",
       "      <td>False</td>\n",
       "      <td>False</td>\n",
       "      <td>True</td>\n",
       "      <td>False</td>\n",
       "      <td>False</td>\n",
       "      <td>False</td>\n",
       "      <td>True</td>\n",
       "      <td>True</td>\n",
       "    </tr>\n",
       "    <tr>\n",
       "      <th>1</th>\n",
       "      <td>458300</td>\n",
       "      <td>150800.0</td>\n",
       "      <td>12800000</td>\n",
       "      <td>360.0</td>\n",
       "      <td>1.0</td>\n",
       "      <td>True</td>\n",
       "      <td>True</td>\n",
       "      <td>False</td>\n",
       "      <td>True</td>\n",
       "      <td>False</td>\n",
       "      <td>False</td>\n",
       "      <td>True</td>\n",
       "      <td>False</td>\n",
       "      <td>True</td>\n",
       "      <td>False</td>\n",
       "      <td>False</td>\n",
       "      <td>False</td>\n",
       "    </tr>\n",
       "    <tr>\n",
       "      <th>2</th>\n",
       "      <td>300000</td>\n",
       "      <td>0.0</td>\n",
       "      <td>6600000</td>\n",
       "      <td>360.0</td>\n",
       "      <td>1.0</td>\n",
       "      <td>True</td>\n",
       "      <td>True</td>\n",
       "      <td>True</td>\n",
       "      <td>False</td>\n",
       "      <td>False</td>\n",
       "      <td>False</td>\n",
       "      <td>True</td>\n",
       "      <td>True</td>\n",
       "      <td>False</td>\n",
       "      <td>False</td>\n",
       "      <td>True</td>\n",
       "      <td>True</td>\n",
       "    </tr>\n",
       "    <tr>\n",
       "      <th>3</th>\n",
       "      <td>258300</td>\n",
       "      <td>235800.0</td>\n",
       "      <td>12000000</td>\n",
       "      <td>360.0</td>\n",
       "      <td>1.0</td>\n",
       "      <td>True</td>\n",
       "      <td>True</td>\n",
       "      <td>True</td>\n",
       "      <td>False</td>\n",
       "      <td>False</td>\n",
       "      <td>False</td>\n",
       "      <td>False</td>\n",
       "      <td>False</td>\n",
       "      <td>False</td>\n",
       "      <td>False</td>\n",
       "      <td>True</td>\n",
       "      <td>True</td>\n",
       "    </tr>\n",
       "    <tr>\n",
       "      <th>4</th>\n",
       "      <td>600000</td>\n",
       "      <td>0.0</td>\n",
       "      <td>14100000</td>\n",
       "      <td>360.0</td>\n",
       "      <td>1.0</td>\n",
       "      <td>True</td>\n",
       "      <td>False</td>\n",
       "      <td>True</td>\n",
       "      <td>False</td>\n",
       "      <td>False</td>\n",
       "      <td>False</td>\n",
       "      <td>True</td>\n",
       "      <td>False</td>\n",
       "      <td>False</td>\n",
       "      <td>False</td>\n",
       "      <td>True</td>\n",
       "      <td>True</td>\n",
       "    </tr>\n",
       "    <tr>\n",
       "      <th>...</th>\n",
       "      <td>...</td>\n",
       "      <td>...</td>\n",
       "      <td>...</td>\n",
       "      <td>...</td>\n",
       "      <td>...</td>\n",
       "      <td>...</td>\n",
       "      <td>...</td>\n",
       "      <td>...</td>\n",
       "      <td>...</td>\n",
       "      <td>...</td>\n",
       "      <td>...</td>\n",
       "      <td>...</td>\n",
       "      <td>...</td>\n",
       "      <td>...</td>\n",
       "      <td>...</td>\n",
       "      <td>...</td>\n",
       "      <td>...</td>\n",
       "    </tr>\n",
       "    <tr>\n",
       "      <th>609</th>\n",
       "      <td>290000</td>\n",
       "      <td>0.0</td>\n",
       "      <td>7100000</td>\n",
       "      <td>360.0</td>\n",
       "      <td>1.0</td>\n",
       "      <td>False</td>\n",
       "      <td>False</td>\n",
       "      <td>True</td>\n",
       "      <td>False</td>\n",
       "      <td>False</td>\n",
       "      <td>False</td>\n",
       "      <td>True</td>\n",
       "      <td>False</td>\n",
       "      <td>True</td>\n",
       "      <td>False</td>\n",
       "      <td>False</td>\n",
       "      <td>True</td>\n",
       "    </tr>\n",
       "    <tr>\n",
       "      <th>610</th>\n",
       "      <td>410600</td>\n",
       "      <td>0.0</td>\n",
       "      <td>4000000</td>\n",
       "      <td>180.0</td>\n",
       "      <td>1.0</td>\n",
       "      <td>True</td>\n",
       "      <td>True</td>\n",
       "      <td>False</td>\n",
       "      <td>False</td>\n",
       "      <td>False</td>\n",
       "      <td>True</td>\n",
       "      <td>True</td>\n",
       "      <td>False</td>\n",
       "      <td>True</td>\n",
       "      <td>False</td>\n",
       "      <td>False</td>\n",
       "      <td>True</td>\n",
       "    </tr>\n",
       "    <tr>\n",
       "      <th>611</th>\n",
       "      <td>807200</td>\n",
       "      <td>24000.0</td>\n",
       "      <td>25300000</td>\n",
       "      <td>360.0</td>\n",
       "      <td>1.0</td>\n",
       "      <td>True</td>\n",
       "      <td>True</td>\n",
       "      <td>False</td>\n",
       "      <td>True</td>\n",
       "      <td>False</td>\n",
       "      <td>False</td>\n",
       "      <td>True</td>\n",
       "      <td>False</td>\n",
       "      <td>False</td>\n",
       "      <td>False</td>\n",
       "      <td>True</td>\n",
       "      <td>True</td>\n",
       "    </tr>\n",
       "    <tr>\n",
       "      <th>612</th>\n",
       "      <td>758300</td>\n",
       "      <td>0.0</td>\n",
       "      <td>18700000</td>\n",
       "      <td>360.0</td>\n",
       "      <td>1.0</td>\n",
       "      <td>True</td>\n",
       "      <td>True</td>\n",
       "      <td>False</td>\n",
       "      <td>False</td>\n",
       "      <td>True</td>\n",
       "      <td>False</td>\n",
       "      <td>True</td>\n",
       "      <td>False</td>\n",
       "      <td>False</td>\n",
       "      <td>False</td>\n",
       "      <td>True</td>\n",
       "      <td>True</td>\n",
       "    </tr>\n",
       "    <tr>\n",
       "      <th>613</th>\n",
       "      <td>458300</td>\n",
       "      <td>0.0</td>\n",
       "      <td>13300000</td>\n",
       "      <td>360.0</td>\n",
       "      <td>0.0</td>\n",
       "      <td>False</td>\n",
       "      <td>False</td>\n",
       "      <td>True</td>\n",
       "      <td>False</td>\n",
       "      <td>False</td>\n",
       "      <td>False</td>\n",
       "      <td>True</td>\n",
       "      <td>True</td>\n",
       "      <td>False</td>\n",
       "      <td>True</td>\n",
       "      <td>False</td>\n",
       "      <td>False</td>\n",
       "    </tr>\n",
       "  </tbody>\n",
       "</table>\n",
       "<p>614 rows × 17 columns</p>\n",
       "</div>"
      ],
      "text/plain": [
       "     Applicant_Income  Coapplicant_Income  Loan_Amount   Term  Credit_History  \\\n",
       "0              584900                 0.0     15000000  360.0             1.0   \n",
       "1              458300            150800.0     12800000  360.0             1.0   \n",
       "2              300000                 0.0      6600000  360.0             1.0   \n",
       "3              258300            235800.0     12000000  360.0             1.0   \n",
       "4              600000                 0.0     14100000  360.0             1.0   \n",
       "..                ...                 ...          ...    ...             ...   \n",
       "609            290000                 0.0      7100000  360.0             1.0   \n",
       "610            410600                 0.0      4000000  180.0             1.0   \n",
       "611            807200             24000.0     25300000  360.0             1.0   \n",
       "612            758300                 0.0     18700000  360.0             1.0   \n",
       "613            458300                 0.0     13300000  360.0             0.0   \n",
       "\n",
       "     Gender  Married  Dependents_0  Dependents_1  Dependents_2  Dependents_3+  \\\n",
       "0      True    False          True         False         False          False   \n",
       "1      True     True         False          True         False          False   \n",
       "2      True     True          True         False         False          False   \n",
       "3      True     True          True         False         False          False   \n",
       "4      True    False          True         False         False          False   \n",
       "..      ...      ...           ...           ...           ...            ...   \n",
       "609   False    False          True         False         False          False   \n",
       "610    True     True         False         False         False           True   \n",
       "611    True     True         False          True         False          False   \n",
       "612    True     True         False         False          True          False   \n",
       "613   False    False          True         False         False          False   \n",
       "\n",
       "     Education  Self_Employed  Area_Rural  Area_Semiurban  Area_Urban  \\\n",
       "0         True          False       False           False        True   \n",
       "1         True          False        True           False       False   \n",
       "2         True           True       False           False        True   \n",
       "3        False          False       False           False        True   \n",
       "4         True          False       False           False        True   \n",
       "..         ...            ...         ...             ...         ...   \n",
       "609       True          False        True           False       False   \n",
       "610       True          False        True           False       False   \n",
       "611       True          False       False           False        True   \n",
       "612       True          False       False           False        True   \n",
       "613       True           True       False            True       False   \n",
       "\n",
       "     Status_Y  \n",
       "0        True  \n",
       "1       False  \n",
       "2        True  \n",
       "3        True  \n",
       "4        True  \n",
       "..        ...  \n",
       "609      True  \n",
       "610      True  \n",
       "611      True  \n",
       "612      True  \n",
       "613     False  \n",
       "\n",
       "[614 rows x 17 columns]"
      ]
     },
     "execution_count": 93,
     "metadata": {},
     "output_type": "execute_result"
    }
   ],
   "source": [
    "train"
   ]
  },
  {
   "cell_type": "markdown",
   "id": "f70fabb7",
   "metadata": {
    "id": "4xekDiffkIIb",
    "papermill": {
     "duration": 0.040921,
     "end_time": "2023-03-17T06:24:24.009127",
     "exception": false,
     "start_time": "2023-03-17T06:24:23.968206",
     "status": "completed"
    },
    "tags": []
   },
   "source": [
    "## Removing outliers"
   ]
  },
  {
   "cell_type": "code",
   "execution_count": 91,
   "id": "219d08e8",
   "metadata": {
    "id": "7xXzLUK4kHsf",
    "papermill": {
     "duration": 0.057502,
     "end_time": "2023-03-17T06:24:24.107221",
     "exception": false,
     "start_time": "2023-03-17T06:24:24.049719",
     "status": "completed"
    },
    "tags": []
   },
   "outputs": [
    {
     "data": {
      "text/plain": [
       "Applicant_Income       291750.0\n",
       "Coapplicant_Income     229725.0\n",
       "Loan_Amount           6675000.0\n",
       "Term                        0.0\n",
       "Credit_History              0.0\n",
       "dtype: float64"
      ]
     },
     "execution_count": 91,
     "metadata": {},
     "output_type": "execute_result"
    }
   ],
   "source": [
    "q1 = train.quantile(0.25)\n",
    "q3 = train.quantile(0.75)\n",
    "iqr = q3 - q1\n",
    "\n",
    "train = train[~((train < (q1 - 1.5 * iqr)) |(train > (q3 + 1.5 * iqr))).any(axis = 1)]"
   ]
  },
  {
   "cell_type": "code",
   "execution_count": null,
   "id": "06001b9a",
   "metadata": {
    "id": "YXTENJhRrT6S",
    "papermill": {
     "duration": 0.058393,
     "end_time": "2023-03-17T06:24:24.205998",
     "exception": false,
     "start_time": "2023-03-17T06:24:24.147605",
     "status": "completed"
    },
    "tags": []
   },
   "outputs": [],
   "source": [
    "q1 = test.quantile(0.25)\n",
    "q3 = test.quantile(0.75)\n",
    "iqr = q3 - q1\n",
    "\n",
    "test = test[~((test < (q1 - 1.5 * iqr)) |(test > (q3 + 1.5 * iqr))).any(axis = 1)]"
   ]
  },
  {
   "cell_type": "markdown",
   "id": "2d996861",
   "metadata": {
    "id": "r7hJ7w6dMlZk",
    "papermill": {
     "duration": 0.039788,
     "end_time": "2023-03-17T06:24:24.290738",
     "exception": false,
     "start_time": "2023-03-17T06:24:24.250950",
     "status": "completed"
    },
    "tags": []
   },
   "source": [
    "## Treating Skewness"
   ]
  },
  {
   "cell_type": "code",
   "execution_count": 50,
   "id": "a3cc6ca5",
   "metadata": {
    "execution": {
     "iopub.execute_input": "2023-03-17T06:24:24.373738Z",
     "iopub.status.busy": "2023-03-17T06:24:24.373286Z",
     "iopub.status.idle": "2023-03-17T06:24:24.382107Z",
     "shell.execute_reply": "2023-03-17T06:24:24.380582Z"
    },
    "id": "fMwoGg5BOKjo",
    "outputId": "748b7607-0b5e-44e4-ed87-32ba0bc354a2",
    "papermill": {
     "duration": 0.053583,
     "end_time": "2023-03-17T06:24:24.384732",
     "exception": false,
     "start_time": "2023-03-17T06:24:24.331149",
     "status": "completed"
    },
    "tags": []
   },
   "outputs": [],
   "source": [
    "# Square Root Transformation\n",
    "\n",
    "train.Applicant_Income = np.sqrt(train.Applicant_Income)\n",
    "train.Coapplicant_Income = np.sqrt(train.Coapplicant_Income)\n",
    "train.Loan_Amount = np.sqrt(train.Loan_Amount)"
   ]
  },
  {
   "cell_type": "code",
   "execution_count": 51,
   "id": "c3e8877f",
   "metadata": {
    "execution": {
     "iopub.execute_input": "2023-03-17T06:24:24.467170Z",
     "iopub.status.busy": "2023-03-17T06:24:24.466750Z",
     "iopub.status.idle": "2023-03-17T06:24:24.473696Z",
     "shell.execute_reply": "2023-03-17T06:24:24.472725Z"
    },
    "id": "WuIKH3nmrfAk",
    "papermill": {
     "duration": 0.050964,
     "end_time": "2023-03-17T06:24:24.475997",
     "exception": false,
     "start_time": "2023-03-17T06:24:24.425033",
     "status": "completed"
    },
    "tags": []
   },
   "outputs": [],
   "source": [
    "# Square Root Transformation\n",
    "\n",
    "test.Applicant_Income = np.sqrt(test.Applicant_Income)\n",
    "test.Coapplicant_Income = np.sqrt(test.Coapplicant_Income)\n",
    "test.Loan_Amount = np.sqrt(test.Loan_Amount)"
   ]
  },
  {
   "cell_type": "code",
   "execution_count": 52,
   "id": "156c71dc",
   "metadata": {
    "execution": {
     "iopub.execute_input": "2023-03-17T06:24:24.558987Z",
     "iopub.status.busy": "2023-03-17T06:24:24.558250Z",
     "iopub.status.idle": "2023-03-17T06:24:25.275548Z",
     "shell.execute_reply": "2023-03-17T06:24:25.274240Z"
    },
    "id": "5z_EKO1ITgTU",
    "outputId": "f4ba91ab-7d7e-457c-db90-435295f84112",
    "papermill": {
     "duration": 0.762237,
     "end_time": "2023-03-17T06:24:25.278509",
     "exception": false,
     "start_time": "2023-03-17T06:24:24.516272",
     "status": "completed"
    },
    "tags": []
   },
   "outputs": [
    {
     "data": {
      "image/png": "[encoded data removed]",
      "text/plain": [
       "<Figure size 1000x500 with 3 Axes>"
      ]
     },
     "metadata": {},
     "output_type": "display_data"
    }
   ],
   "source": [
    "sns.set(style=\"darkgrid\")\n",
    "fig, axs = plt.subplots(1, 3, figsize = (10, 5))\n",
    "plt.subplot(1,3,1)\n",
    "sns.histplot(data = train, x = \"Applicant_Income\", kde = True, color='green')\n",
    "plt.subplot(1,3,2)\n",
    "sns.histplot(data = train, x = \"Coapplicant_Income\", kde = True, color='skyblue')\n",
    "plt.subplot(1,3,3)\n",
    "sns.histplot(data = train, x = \"Loan_Amount\", kde = True, color='orange');"
   ]
  },
  {
   "cell_type": "markdown",
   "id": "dd97c7fb",
   "metadata": {
    "id": "RF-7s2avUipu",
    "papermill": {
     "duration": 0.042423,
     "end_time": "2023-03-17T06:24:25.364152",
     "exception": false,
     "start_time": "2023-03-17T06:24:25.321729",
     "status": "completed"
    },
    "tags": []
   },
   "source": [
    "We observe that the distributions after using log transformation are much better when compared to the original distribution."
   ]
  },
  {
   "cell_type": "markdown",
   "id": "24e778e0",
   "metadata": {
    "id": "E6V0WTjKgwFj",
    "papermill": {
     "duration": 0.042059,
     "end_time": "2023-03-17T06:24:25.449457",
     "exception": false,
     "start_time": "2023-03-17T06:24:25.407398",
     "status": "completed"
    },
    "tags": []
   },
   "source": [
    "## Separating target variable from the train dataset"
   ]
  },
  {
   "cell_type": "code",
   "execution_count": 53,
   "id": "1638cca1",
   "metadata": {
    "execution": {
     "iopub.execute_input": "2023-03-17T06:24:25.536582Z",
     "iopub.status.busy": "2023-03-17T06:24:25.535661Z",
     "iopub.status.idle": "2023-03-17T06:24:25.542626Z",
     "shell.execute_reply": "2023-03-17T06:24:25.541776Z"
    },
    "id": "puf1cjzoeDQb",
    "outputId": "3cdd2e12-3bb4-4336-a9f7-f2f15268c61b",
    "papermill": {
     "duration": 0.053257,
     "end_time": "2023-03-17T06:24:25.544707",
     "exception": false,
     "start_time": "2023-03-17T06:24:25.491450",
     "status": "completed"
    },
    "tags": []
   },
   "outputs": [
    {
     "data": {
      "text/plain": [
       "Index(['Applicant_Income', 'Coapplicant_Income', 'Loan_Amount', 'Term',\n",
       "       'Credit_History', 'Gender', 'Married', 'Dependents_0', 'Dependents_1',\n",
       "       'Dependents_2', 'Dependents_3+', 'Education', 'Self_Employed',\n",
       "       'Area_Rural', 'Area_Semiurban', 'Area_Urban', 'Status_Y'],\n",
       "      dtype='object')"
      ]
     },
     "execution_count": 53,
     "metadata": {},
     "output_type": "execute_result"
    }
   ],
   "source": [
    "train.columns"
   ]
  },
  {
   "cell_type": "code",
   "execution_count": 54,
   "id": "203806d4",
   "metadata": {
    "execution": {
     "iopub.execute_input": "2023-03-17T06:24:25.633613Z",
     "iopub.status.busy": "2023-03-17T06:24:25.633198Z",
     "iopub.status.idle": "2023-03-17T06:24:25.640037Z",
     "shell.execute_reply": "2023-03-17T06:24:25.638891Z"
    },
    "id": "Nub78aketCPN",
    "outputId": "46e40594-8432-4de0-d447-f5fc55c8872a",
    "papermill": {
     "duration": 0.053681,
     "end_time": "2023-03-17T06:24:25.642208",
     "exception": false,
     "start_time": "2023-03-17T06:24:25.588527",
     "status": "completed"
    },
    "tags": []
   },
   "outputs": [
    {
     "data": {
      "text/plain": [
       "Index(['Applicant_Income', 'Coapplicant_Income', 'Loan_Amount', 'Term',\n",
       "       'Credit_History', 'Gender', 'Married', 'Dependents_0', 'Dependents_1',\n",
       "       'Dependents_2', 'Dependents_3+', 'Education', 'Self_Employed',\n",
       "       'Area_Rural', 'Area_Semiurban', 'Area_Urban'],\n",
       "      dtype='object')"
      ]
     },
     "execution_count": 54,
     "metadata": {},
     "output_type": "execute_result"
    }
   ],
   "source": [
    "test.columns"
   ]
  },
  {
   "cell_type": "code",
   "execution_count": 55,
   "id": "41f9dad3",
   "metadata": {
    "execution": {
     "iopub.execute_input": "2023-03-17T06:24:25.729170Z",
     "iopub.status.busy": "2023-03-17T06:24:25.728354Z",
     "iopub.status.idle": "2023-03-17T06:24:25.734287Z",
     "shell.execute_reply": "2023-03-17T06:24:25.733417Z"
    },
    "id": "sJJVP_kPhZh1",
    "papermill": {
     "duration": 0.051697,
     "end_time": "2023-03-17T06:24:25.736570",
     "exception": false,
     "start_time": "2023-03-17T06:24:25.684873",
     "status": "completed"
    },
    "tags": []
   },
   "outputs": [],
   "source": [
    "x = train.drop([\"Status_Y\"], axis = 1)\n",
    "y = train[\"Status_Y\"]"
   ]
  },
  {
   "cell_type": "markdown",
   "id": "a89b5fbb",
   "metadata": {
    "id": "UpuBMRbEUx5n",
    "papermill": {
     "duration": 0.041411,
     "end_time": "2023-03-17T06:24:25.820000",
     "exception": false,
     "start_time": "2023-03-17T06:24:25.778589",
     "status": "completed"
    },
    "tags": []
   },
   "source": [
    "## Dealing with Data Imbalance : SMOTE "
   ]
  },
  {
   "cell_type": "code",
   "execution_count": 56,
   "id": "af6751c9",
   "metadata": {
    "execution": {
     "iopub.execute_input": "2023-03-17T06:24:25.906587Z",
     "iopub.status.busy": "2023-03-17T06:24:25.905772Z",
     "iopub.status.idle": "2023-03-17T06:24:25.919748Z",
     "shell.execute_reply": "2023-03-17T06:24:25.918769Z"
    },
    "id": "FRrTxXZNU7Wg",
    "papermill": {
     "duration": 0.060671,
     "end_time": "2023-03-17T06:24:25.922327",
     "exception": false,
     "start_time": "2023-03-17T06:24:25.861656",
     "status": "completed"
    },
    "tags": []
   },
   "outputs": [],
   "source": [
    "x, y = SMOTE().fit_resample(x, y)"
   ]
  },
  {
   "cell_type": "code",
   "execution_count": 57,
   "id": "b263fdb9",
   "metadata": {
    "execution": {
     "iopub.execute_input": "2023-03-17T06:24:26.009141Z",
     "iopub.status.busy": "2023-03-17T06:24:26.008324Z",
     "iopub.status.idle": "2023-03-17T06:24:26.211996Z",
     "shell.execute_reply": "2023-03-17T06:24:26.211079Z"
    },
    "id": "RVpxywzMzbQb",
    "outputId": "de1befb1-7fde-470f-ce80-ddd70e9741b8",
    "papermill": {
     "duration": 0.250096,
     "end_time": "2023-03-17T06:24:26.214519",
     "exception": false,
     "start_time": "2023-03-17T06:24:25.964423",
     "status": "completed"
    },
    "tags": []
   },
   "outputs": [
    {
     "data": {
      "image/png": "[encoded data removed]",
      "text/plain": [
       "<Figure size 640x480 with 1 Axes>"
      ]
     },
     "metadata": {},
     "output_type": "display_data"
    }
   ],
   "source": [
    "sns.set_theme(style = \"darkgrid\")\n",
    "sns.countplot(y = y, data = train)\n",
    "plt.ylabel('Loan Status')\n",
    "plt.xlabel('Total')\n",
    "plt.show()"
   ]
  },
  {
   "cell_type": "markdown",
   "id": "1b86437a",
   "metadata": {
    "id": "deRoCdMn0Y4S",
    "papermill": {
     "duration": 0.042718,
     "end_time": "2023-03-17T06:24:26.300506",
     "exception": false,
     "start_time": "2023-03-17T06:24:26.257788",
     "status": "completed"
    },
    "tags": []
   },
   "source": [
    "## Data Normalization"
   ]
  },
  {
   "cell_type": "code",
   "execution_count": 58,
   "id": "17d5d178",
   "metadata": {
    "execution": {
     "iopub.execute_input": "2023-03-17T06:24:26.387002Z",
     "iopub.status.busy": "2023-03-17T06:24:26.386539Z",
     "iopub.status.idle": "2023-03-17T06:24:26.395366Z",
     "shell.execute_reply": "2023-03-17T06:24:26.394108Z"
    },
    "id": "iaT7gAqPIF7S",
    "papermill": {
     "duration": 0.055046,
     "end_time": "2023-03-17T06:24:26.397793",
     "exception": false,
     "start_time": "2023-03-17T06:24:26.342747",
     "status": "completed"
    },
    "tags": []
   },
   "outputs": [],
   "source": [
    "x_train, x_test, y_train, y_test = train_test_split(x, y, test_size = 0.2, random_state = 42)"
   ]
  },
  {
   "cell_type": "code",
   "execution_count": 59,
   "id": "794ca70d",
   "metadata": {
    "execution": {
     "iopub.execute_input": "2023-03-17T06:24:26.484383Z",
     "iopub.status.busy": "2023-03-17T06:24:26.483461Z",
     "iopub.status.idle": "2023-03-17T06:24:26.496092Z",
     "shell.execute_reply": "2023-03-17T06:24:26.494819Z"
    },
    "id": "WmA2qj9y0Yqo",
    "papermill": {
     "duration": 0.058961,
     "end_time": "2023-03-17T06:24:26.498766",
     "exception": false,
     "start_time": "2023-03-17T06:24:26.439805",
     "status": "completed"
    },
    "tags": []
   },
   "outputs": [],
   "source": [
    "minmax = MinMaxScaler()\n",
    "x_train = minmax.fit_transform(x_train)\n",
    "x_test = minmax.transform(x_test)\n",
    "test = minmax.transform(test)"
   ]
  },
  {
   "cell_type": "markdown",
   "id": "63a55013",
   "metadata": {
    "id": "3ixOkJUx3puI",
    "papermill": {
     "duration": 0.042425,
     "end_time": "2023-03-17T06:24:26.583297",
     "exception": false,
     "start_time": "2023-03-17T06:24:26.540872",
     "status": "completed"
    },
    "tags": []
   },
   "source": [
    "# Models"
   ]
  },
  {
   "cell_type": "markdown",
   "id": "14523f56",
   "metadata": {
    "id": "MS0qL8PC4K3o",
    "papermill": {
     "duration": 0.041587,
     "end_time": "2023-03-17T06:24:26.667067",
     "exception": false,
     "start_time": "2023-03-17T06:24:26.625480",
     "status": "completed"
    },
    "tags": []
   },
   "source": [
    "## Logistic Regression"
   ]
  },
  {
   "cell_type": "code",
   "execution_count": 60,
   "id": "71579c1d",
   "metadata": {
    "execution": {
     "iopub.execute_input": "2023-03-17T06:24:26.754052Z",
     "iopub.status.busy": "2023-03-17T06:24:26.753573Z",
     "iopub.status.idle": "2023-03-17T06:24:26.770209Z",
     "shell.execute_reply": "2023-03-17T06:24:26.768893Z"
    },
    "id": "Xa5A1VSf4Fgu",
    "outputId": "339f4627-3ca8-4123-f96f-89bb9f49fe02",
    "papermill": {
     "duration": 0.062763,
     "end_time": "2023-03-17T06:24:26.772817",
     "exception": false,
     "start_time": "2023-03-17T06:24:26.710054",
     "status": "completed"
    },
    "tags": []
   },
   "outputs": [
    {
     "name": "stdout",
     "output_type": "stream",
     "text": [
      "              precision    recall  f1-score   support\n",
      "\n",
      "           0       0.75      0.72      0.73        25\n",
      "           1       0.67      0.70      0.68        20\n",
      "\n",
      "    accuracy                           0.71        45\n",
      "   macro avg       0.71      0.71      0.71        45\n",
      "weighted avg       0.71      0.71      0.71        45\n",
      "\n",
      "[[18  7]\n",
      " [ 6 14]]\n",
      "LR accuracy: 71.11%\n"
     ]
    }
   ],
   "source": [
    "lr = LogisticRegression(solver = 'saga', max_iter = 500, random_state = 1)\n",
    "lr.fit(x_train, y_train)\n",
    "\n",
    "y_pred = lr.predict(x_test)\n",
    "\n",
    "print(classification_report(y_test, y_pred))\n",
    "print(confusion_matrix(y_test, y_pred))\n",
    "\n",
    "from sklearn.metrics import accuracy_score\n",
    "LRAcc = accuracy_score(y_pred,y_test)\n",
    "print('LR accuracy: {:.2f}%'.format(LRAcc*100))"
   ]
  },
  {
   "cell_type": "markdown",
   "id": "b7dd53f1",
   "metadata": {
    "id": "1taw0vyy7hu9",
    "papermill": {
     "duration": 0.04189,
     "end_time": "2023-03-17T06:24:26.857212",
     "exception": false,
     "start_time": "2023-03-17T06:24:26.815322",
     "status": "completed"
    },
    "tags": []
   },
   "source": [
    "## K-Nearest Neighbour (KNN)"
   ]
  },
  {
   "cell_type": "code",
   "execution_count": 61,
   "id": "8797d6b5",
   "metadata": {
    "execution": {
     "iopub.execute_input": "2023-03-17T06:24:26.945036Z",
     "iopub.status.busy": "2023-03-17T06:24:26.944598Z",
     "iopub.status.idle": "2023-03-17T06:24:27.305318Z",
     "shell.execute_reply": "2023-03-17T06:24:27.304197Z"
    },
    "id": "1c77uWXR5bwM",
    "outputId": "a2672adb-4487-4b53-ecd8-4f9d54a294db",
    "papermill": {
     "duration": 0.408255,
     "end_time": "2023-03-17T06:24:27.307746",
     "exception": false,
     "start_time": "2023-03-17T06:24:26.899491",
     "status": "completed"
    },
    "tags": []
   },
   "outputs": [
    {
     "data": {
      "image/png": "[encoded data removed]",
      "text/plain": [
       "<Figure size 640x480 with 1 Axes>"
      ]
     },
     "metadata": {},
     "output_type": "display_data"
    },
    {
     "name": "stdout",
     "output_type": "stream",
     "text": [
      "KNN best accuracy: 88.89%\n"
     ]
    }
   ],
   "source": [
    "score_knn = []\n",
    "for i in range(1,21):\n",
    "    knn = KNeighborsClassifier(n_neighbors = i)\n",
    "    knn.fit(x_train, y_train)\n",
    "    score_knn.append(knn.score(x_test, y_test))\n",
    "    \n",
    "plt.plot(range(1,21), score_knn)\n",
    "plt.xticks(np.arange(1,21,1))\n",
    "plt.xlabel(\"K value\")\n",
    "plt.ylabel(\"Score\")\n",
    "plt.show()\n",
    "KNAcc = max(score_knn)\n",
    "print(\"KNN best accuracy: {:.2f}%\".format(KNAcc*100))"
   ]
  },
  {
   "cell_type": "markdown",
   "id": "64c4da4d",
   "metadata": {
    "id": "sZiCQChQ8IUG",
    "papermill": {
     "duration": 0.043642,
     "end_time": "2023-03-17T06:24:27.396263",
     "exception": false,
     "start_time": "2023-03-17T06:24:27.352621",
     "status": "completed"
    },
    "tags": []
   },
   "source": [
    "## Support Vector Machine (SVM)"
   ]
  },
  {
   "cell_type": "code",
   "execution_count": 62,
   "id": "f0ac3ce7",
   "metadata": {
    "execution": {
     "iopub.execute_input": "2023-03-17T06:24:27.486257Z",
     "iopub.status.busy": "2023-03-17T06:24:27.485077Z",
     "iopub.status.idle": "2023-03-17T06:24:27.502037Z",
     "shell.execute_reply": "2023-03-17T06:24:27.500891Z"
    },
    "id": "EaPdKhgx8RsA",
    "outputId": "79b4dadb-dcce-4371-c72c-0d615bf5505d",
    "papermill": {
     "duration": 0.064869,
     "end_time": "2023-03-17T06:24:27.504722",
     "exception": false,
     "start_time": "2023-03-17T06:24:27.439853",
     "status": "completed"
    },
    "tags": []
   },
   "outputs": [
    {
     "name": "stdout",
     "output_type": "stream",
     "text": [
      "              precision    recall  f1-score   support\n",
      "\n",
      "           0       0.89      0.68      0.77        25\n",
      "           1       0.69      0.90      0.78        20\n",
      "\n",
      "    accuracy                           0.78        45\n",
      "   macro avg       0.79      0.79      0.78        45\n",
      "weighted avg       0.80      0.78      0.78        45\n",
      "\n",
      "[[17  8]\n",
      " [ 2 18]]\n",
      "SVC accuracy: 77.78%\n"
     ]
    }
   ],
   "source": [
    "svc = SVC(kernel='rbf', max_iter=500)\n",
    "svc.fit(x_train, y_train)\n",
    "\n",
    "y_pred = svc.predict(x_test)\n",
    "\n",
    "print(classification_report(y_test, y_pred))\n",
    "print(confusion_matrix(y_test, y_pred))\n",
    "\n",
    "from sklearn.metrics import accuracy_score\n",
    "SVCAcc = accuracy_score(y_pred,y_test)\n",
    "print('SVC accuracy: {:.2f}%'.format(SVCAcc*100))"
   ]
  },
  {
   "cell_type": "markdown",
   "id": "17a4bc6b",
   "metadata": {
    "id": "W5bkW7Ez9EQw",
    "papermill": {
     "duration": 0.042684,
     "end_time": "2023-03-17T06:24:27.590573",
     "exception": false,
     "start_time": "2023-03-17T06:24:27.547889",
     "status": "completed"
    },
    "tags": []
   },
   "source": [
    "## Naive Bayes"
   ]
  },
  {
   "cell_type": "markdown",
   "id": "35dfee5e",
   "metadata": {
    "id": "z9iKq1Xy9fmw",
    "papermill": {
     "duration": 0.043014,
     "end_time": "2023-03-17T06:24:27.677093",
     "exception": false,
     "start_time": "2023-03-17T06:24:27.634079",
     "status": "completed"
    },
    "tags": []
   },
   "source": [
    "### Categorical NB"
   ]
  },
  {
   "cell_type": "code",
   "execution_count": 63,
   "id": "bba25bfe",
   "metadata": {
    "execution": {
     "iopub.execute_input": "2023-03-17T06:24:27.768251Z",
     "iopub.status.busy": "2023-03-17T06:24:27.767775Z",
     "iopub.status.idle": "2023-03-17T06:24:27.783856Z",
     "shell.execute_reply": "2023-03-17T06:24:27.782527Z"
    },
    "id": "OMt6iovq9D4Z",
    "outputId": "82675595-17c3-435a-cbb8-f6b24b54a85d",
    "papermill": {
     "duration": 0.065267,
     "end_time": "2023-03-17T06:24:27.786265",
     "exception": false,
     "start_time": "2023-03-17T06:24:27.720998",
     "status": "completed"
    },
    "tags": []
   },
   "outputs": [
    {
     "name": "stdout",
     "output_type": "stream",
     "text": [
      "              precision    recall  f1-score   support\n",
      "\n",
      "           0       0.68      0.52      0.59        25\n",
      "           1       0.54      0.70      0.61        20\n",
      "\n",
      "    accuracy                           0.60        45\n",
      "   macro avg       0.61      0.61      0.60        45\n",
      "weighted avg       0.62      0.60      0.60        45\n",
      "\n",
      "[[13 12]\n",
      " [ 6 14]]\n",
      "Categorical Naive Bayes accuracy: 60.00%\n"
     ]
    }
   ],
   "source": [
    "nbc1 = CategoricalNB()\n",
    "nbc1.fit(x_train, y_train)\n",
    "\n",
    "y_pred = nbc1.predict(x_test)\n",
    "\n",
    "print(classification_report(y_test, y_pred))\n",
    "print(confusion_matrix(y_test, y_pred))\n",
    "\n",
    "from sklearn.metrics import accuracy_score\n",
    "NBAcc1 = accuracy_score(y_pred,y_test)\n",
    "print('Categorical Naive Bayes accuracy: {:.2f}%'.format(NBAcc1*100))"
   ]
  },
  {
   "cell_type": "markdown",
   "id": "9b4072c3",
   "metadata": {
    "id": "bjlQpJN59UbD",
    "papermill": {
     "duration": 0.044376,
     "end_time": "2023-03-17T06:24:27.886770",
     "exception": false,
     "start_time": "2023-03-17T06:24:27.842394",
     "status": "completed"
    },
    "tags": []
   },
   "source": [
    "### Gaussian NB"
   ]
  },
  {
   "cell_type": "code",
   "execution_count": 64,
   "id": "53c7009f",
   "metadata": {
    "execution": {
     "iopub.execute_input": "2023-03-17T06:24:27.987125Z",
     "iopub.status.busy": "2023-03-17T06:24:27.986082Z",
     "iopub.status.idle": "2023-03-17T06:24:28.005491Z",
     "shell.execute_reply": "2023-03-17T06:24:28.004392Z"
    },
    "id": "RJv2_DVl9Tn8",
    "outputId": "60c7f816-475e-4987-eba4-6a174866035c",
    "papermill": {
     "duration": 0.072459,
     "end_time": "2023-03-17T06:24:28.008014",
     "exception": false,
     "start_time": "2023-03-17T06:24:27.935555",
     "status": "completed"
    },
    "tags": []
   },
   "outputs": [
    {
     "name": "stdout",
     "output_type": "stream",
     "text": [
      "              precision    recall  f1-score   support\n",
      "\n",
      "           0       0.74      0.68      0.71        25\n",
      "           1       0.64      0.70      0.67        20\n",
      "\n",
      "    accuracy                           0.69        45\n",
      "   macro avg       0.69      0.69      0.69        45\n",
      "weighted avg       0.69      0.69      0.69        45\n",
      "\n",
      "[[17  8]\n",
      " [ 6 14]]\n",
      "Gaussian Naive Bayes accuracy: 68.89%\n"
     ]
    }
   ],
   "source": [
    "nbc2 = GaussianNB()\n",
    "nbc2.fit(x_train, y_train)\n",
    "\n",
    "y_pred = nbc2.predict(x_test)\n",
    "\n",
    "print(classification_report(y_test, y_pred))\n",
    "print(confusion_matrix(y_test, y_pred))\n",
    "\n",
    "from sklearn.metrics import accuracy_score\n",
    "NBAcc2 = accuracy_score(y_pred,y_test)\n",
    "print('Gaussian Naive Bayes accuracy: {:.2f}%'.format(NBAcc2*100))"
   ]
  },
  {
   "cell_type": "markdown",
   "id": "4246f115",
   "metadata": {
    "id": "cnen-6ZD9ZWc",
    "papermill": {
     "duration": 0.047603,
     "end_time": "2023-03-17T06:24:28.100270",
     "exception": false,
     "start_time": "2023-03-17T06:24:28.052667",
     "status": "completed"
    },
    "tags": []
   },
   "source": [
    "## Decision Tree"
   ]
  },
  {
   "cell_type": "code",
   "execution_count": 65,
   "id": "65812956",
   "metadata": {
    "execution": {
     "iopub.execute_input": "2023-03-17T06:24:28.193209Z",
     "iopub.status.busy": "2023-03-17T06:24:28.192114Z",
     "iopub.status.idle": "2023-03-17T06:24:28.677019Z",
     "shell.execute_reply": "2023-03-17T06:24:28.675585Z"
    },
    "id": "twABLtSw9icG",
    "outputId": "a6c4231a-af0c-4a5f-9af2-8a92ebfc36cc",
    "papermill": {
     "duration": 0.53523,
     "end_time": "2023-03-17T06:24:28.679696",
     "exception": false,
     "start_time": "2023-03-17T06:24:28.144466",
     "status": "completed"
    },
    "tags": []
   },
   "outputs": [
    {
     "data": {
      "image/png": "[encoded data removed]",
      "text/plain": [
       "<Figure size 640x480 with 1 Axes>"
      ]
     },
     "metadata": {},
     "output_type": "display_data"
    },
    {
     "name": "stdout",
     "output_type": "stream",
     "text": [
      "Decision Tree Accuracy: 80.00%\n"
     ]
    }
   ],
   "source": [
    "score_dt = []\n",
    "for i in range(2,21):\n",
    "    dtc = DecisionTreeClassifier(max_leaf_nodes=i)\n",
    "    dtc.fit(x_train, y_train)\n",
    "    score_dt.append(dtc.score(x_test, y_test))\n",
    "    \n",
    "plt.plot(range(2,21), score_dt)\n",
    "plt.xticks(np.arange(2,21,1))\n",
    "plt.xlabel(\"Leaf\")\n",
    "plt.ylabel(\"Score\")\n",
    "plt.show()\n",
    "DTAcc = max(score_dt)\n",
    "print(\"Decision Tree Accuracy: {:.2f}%\".format(DTAcc*100))"
   ]
  },
  {
   "cell_type": "markdown",
   "id": "0bbb56dc",
   "metadata": {
    "id": "GfW_OJU69opG",
    "papermill": {
     "duration": 0.046155,
     "end_time": "2023-03-17T06:24:28.771790",
     "exception": false,
     "start_time": "2023-03-17T06:24:28.725635",
     "status": "completed"
    },
    "tags": []
   },
   "source": [
    "## Random Forest"
   ]
  },
  {
   "cell_type": "code",
   "execution_count": 66,
   "id": "b74e76b5",
   "metadata": {
    "execution": {
     "iopub.execute_input": "2023-03-17T06:24:28.862908Z",
     "iopub.status.busy": "2023-03-17T06:24:28.862106Z",
     "iopub.status.idle": "2023-03-17T06:25:02.911583Z",
     "shell.execute_reply": "2023-03-17T06:25:02.910208Z"
    },
    "id": "TnLwqYnP9pD7",
    "outputId": "649f1073-eec1-436b-bef7-a885fc2c3ee7",
    "papermill": {
     "duration": 34.144718,
     "end_time": "2023-03-17T06:25:02.961108",
     "exception": false,
     "start_time": "2023-03-17T06:24:28.816390",
     "status": "completed"
    },
    "tags": []
   },
   "outputs": [
    {
     "data": {
      "image/png": "[encoded data removed]",
      "text/plain": [
       "<Figure size 640x480 with 1 Axes>"
      ]
     },
     "metadata": {},
     "output_type": "display_data"
    },
    {
     "name": "stdout",
     "output_type": "stream",
     "text": [
      "Random Forest Accuracy:  91.11%\n"
     ]
    }
   ],
   "source": [
    "score_rf = []\n",
    "for i in range(2,25):\n",
    "    rfc = RandomForestClassifier(n_estimators = 1000, random_state = 1, max_leaf_nodes=i)\n",
    "    rfc.fit(x_train, y_train)\n",
    "    score_rf.append(rfc.score(x_test, y_test))\n",
    "    \n",
    "plt.plot(range(2,25), score_rf)\n",
    "plt.xticks(np.arange(2,25,1))\n",
    "plt.xlabel(\"RF Value\")\n",
    "plt.ylabel(\"Score\")\n",
    "plt.show()\n",
    "RFAcc = max(score_rf)\n",
    "print(\"Random Forest Accuracy:  {:.2f}%\".format(RFAcc*100))"
   ]
  },
  {
   "cell_type": "markdown",
   "id": "36511a02",
   "metadata": {
    "id": "x1vw6r9ICK8J",
    "papermill": {
     "duration": 0.045185,
     "end_time": "2023-03-17T06:25:26.197724",
     "exception": false,
     "start_time": "2023-03-17T06:25:26.152539",
     "status": "completed"
    },
    "tags": []
   },
   "source": [
    "# Model Comparison "
   ]
  },
  {
   "cell_type": "code",
   "execution_count": 71,
   "id": "49afcc27",
   "metadata": {
    "execution": {
     "iopub.execute_input": "2023-03-17T06:25:26.291089Z",
     "iopub.status.busy": "2023-03-17T06:25:26.290365Z",
     "iopub.status.idle": "2023-03-17T06:25:26.304861Z",
     "shell.execute_reply": "2023-03-17T06:25:26.303705Z"
    },
    "id": "SGzOLxRMArx0",
    "outputId": "62e1b447-f8d8-423a-df5b-90258f5d8487",
    "papermill": {
     "duration": 0.064077,
     "end_time": "2023-03-17T06:25:26.307186",
     "exception": false,
     "start_time": "2023-03-17T06:25:26.243109",
     "status": "completed"
    },
    "tags": []
   },
   "outputs": [
    {
     "data": {
      "text/html": [
       "<div>\n",
       "<style scoped>\n",
       "    .dataframe tbody tr th:only-of-type {\n",
       "        vertical-align: middle;\n",
       "    }\n",
       "\n",
       "    .dataframe tbody tr th {\n",
       "        vertical-align: top;\n",
       "    }\n",
       "\n",
       "    .dataframe thead th {\n",
       "        text-align: right;\n",
       "    }\n",
       "</style>\n",
       "<table border=\"1\" class=\"dataframe\">\n",
       "  <thead>\n",
       "    <tr style=\"text-align: right;\">\n",
       "      <th></th>\n",
       "      <th>Model</th>\n",
       "      <th>Accuracy</th>\n",
       "    </tr>\n",
       "  </thead>\n",
       "  <tbody>\n",
       "    <tr>\n",
       "      <th>6</th>\n",
       "      <td>Random Forest</td>\n",
       "      <td>91.111111</td>\n",
       "    </tr>\n",
       "    <tr>\n",
       "      <th>1</th>\n",
       "      <td>K Neighbors</td>\n",
       "      <td>88.888889</td>\n",
       "    </tr>\n",
       "    <tr>\n",
       "      <th>7</th>\n",
       "      <td>Gradient Boost</td>\n",
       "      <td>88.888889</td>\n",
       "    </tr>\n",
       "    <tr>\n",
       "      <th>5</th>\n",
       "      <td>Decision Tree</td>\n",
       "      <td>80.000000</td>\n",
       "    </tr>\n",
       "    <tr>\n",
       "      <th>2</th>\n",
       "      <td>SVM</td>\n",
       "      <td>77.777778</td>\n",
       "    </tr>\n",
       "    <tr>\n",
       "      <th>0</th>\n",
       "      <td>Logistic Regression</td>\n",
       "      <td>71.111111</td>\n",
       "    </tr>\n",
       "    <tr>\n",
       "      <th>4</th>\n",
       "      <td>Gaussian NB</td>\n",
       "      <td>68.888889</td>\n",
       "    </tr>\n",
       "    <tr>\n",
       "      <th>3</th>\n",
       "      <td>Categorical NB</td>\n",
       "      <td>60.000000</td>\n",
       "    </tr>\n",
       "  </tbody>\n",
       "</table>\n",
       "</div>"
      ],
      "text/plain": [
       "                 Model   Accuracy\n",
       "6        Random Forest  91.111111\n",
       "1          K Neighbors  88.888889\n",
       "7       Gradient Boost  88.888889\n",
       "5        Decision Tree  80.000000\n",
       "2                  SVM  77.777778\n",
       "0  Logistic Regression  71.111111\n",
       "4          Gaussian NB  68.888889\n",
       "3       Categorical NB  60.000000"
      ]
     },
     "execution_count": 71,
     "metadata": {},
     "output_type": "execute_result"
    }
   ],
   "source": [
    "comparison = pd.DataFrame({'Model': ['Logistic Regression', 'K Neighbors', \n",
    "                                  'SVM', 'Categorical NB', \n",
    "                                  'Gaussian NB', 'Decision Tree', \n",
    "                                  'Random Forest'], \n",
    "                        'Accuracy': [LRAcc*100, KNAcc*100, SVCAcc*100, \n",
    "                                     NBAcc1*100, NBAcc2*100, DTAcc*100, \n",
    "                                     RFAcc*100]})\n",
    "comparison.sort_values(by='Accuracy', ascending=False)"
   ]
  },
  {
   "cell_type": "markdown",
   "id": "8068e8bc",
   "metadata": {
    "id": "j-rkdrtENXrJ",
    "papermill": {
     "duration": 0.045394,
     "end_time": "2023-03-17T06:25:26.398183",
     "exception": false,
     "start_time": "2023-03-17T06:25:26.352789",
     "status": "completed"
    },
    "tags": []
   },
   "source": [
    "Going forward with random forest in order to calculate the y_pred for out test loan dataset."
   ]
  },
  {
   "cell_type": "code",
   "execution_count": 72,
   "id": "47c9892c",
   "metadata": {
    "execution": {
     "iopub.execute_input": "2023-03-17T06:25:26.491523Z",
     "iopub.status.busy": "2023-03-17T06:25:26.490780Z",
     "iopub.status.idle": "2023-03-17T06:25:26.605375Z",
     "shell.execute_reply": "2023-03-17T06:25:26.604155Z"
    },
    "id": "mk0xLmpSNJFr",
    "papermill": {
     "duration": 0.164478,
     "end_time": "2023-03-17T06:25:26.608154",
     "exception": false,
     "start_time": "2023-03-17T06:25:26.443676",
     "status": "completed"
    },
    "tags": []
   },
   "outputs": [],
   "source": [
    "y_pred = rfc.predict(test)"
   ]
  },
  {
   "cell_type": "code",
   "execution_count": 73,
   "id": "8dfd9395",
   "metadata": {
    "execution": {
     "iopub.execute_input": "2023-03-17T06:25:26.702723Z",
     "iopub.status.busy": "2023-03-17T06:25:26.702291Z",
     "iopub.status.idle": "2023-03-17T06:25:26.709324Z",
     "shell.execute_reply": "2023-03-17T06:25:26.708269Z"
    },
    "id": "QSNvoYwvNi39",
    "outputId": "bed5b3b8-9172-4905-f6de-46ce328ccf6b",
    "papermill": {
     "duration": 0.057039,
     "end_time": "2023-03-17T06:25:26.711616",
     "exception": false,
     "start_time": "2023-03-17T06:25:26.654577",
     "status": "completed"
    },
    "tags": []
   },
   "outputs": [
    {
     "data": {
      "text/plain": [
       "array([1, 0, 1, 1, 1, 1, 0, 1, 0, 0, 0, 1, 1, 1, 0, 1, 1, 1, 1, 1, 1, 1,\n",
       "       1, 1, 0, 1, 1, 1, 1, 1, 1, 1, 0, 1, 1, 1, 1, 1, 1, 1, 0, 1, 1, 1,\n",
       "       1, 1, 1, 1, 1, 1, 1, 1, 0, 1, 0, 1, 1, 1, 0, 1, 1, 1, 1, 1, 1, 1,\n",
       "       1, 1, 1, 1, 1, 1, 1, 1, 1, 1, 1, 0], dtype=uint8)"
      ]
     },
     "execution_count": 73,
     "metadata": {},
     "output_type": "execute_result"
    }
   ],
   "source": [
    "y_pred"
   ]
  }
 ],
 "metadata": {
  "kernelspec": {
   "display_name": "Python 3 (ipykernel)",
   "language": "python",
   "name": "python3"
  },
  "language_info": {
   "codemirror_mode": {
    "name": "ipython",
    "version": 3
   },
   "file_extension": ".py",
   "mimetype": "text/x-python",
   "name": "python",
   "nbconvert_exporter": "python",
   "pygments_lexer": "ipython3",
   "version": "3.12.7"
  },
  "papermill": {
   "default_parameters": {},
   "duration": 86.719828,
   "end_time": "2023-03-17T06:25:27.672595",
   "environment_variables": {},
   "exception": null,
   "input_path": "__notebook__.ipynb",
   "output_path": "__notebook__.ipynb",
   "parameters": {},
   "start_time": "2023-03-17T06:24:00.952767",
   "version": "2.4.0"
  }
 },
 "nbformat": 4,
 "nbformat_minor": 5
}
